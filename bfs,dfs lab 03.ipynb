{
  "nbformat": 4,
  "nbformat_minor": 0,
  "metadata": {
    "colab": {
      "provenance": []
    },
    "kernelspec": {
      "name": "python3",
      "display_name": "Python 3"
    },
    "language_info": {
      "name": "python"
    }
  },
  "cells": [
    {
      "cell_type": "markdown",
      "source": [
        "M.Talha Ramzan\n",
        "---\n",
        "2330-0141\n",
        "---\n",
        "BS(AI)\n",
        "---\n",
        "Assigment no 03\n",
        "----"
      ],
      "metadata": {
        "id": "b2W02aYveKw5"
      }
    },
    {
      "cell_type": "code",
      "source": [
        "graph ={\n",
        "    '5' : ['3','7'],\n",
        "    '3' : ['2','4'],\n",
        "    '7' : ['8'],\n",
        "    '2' : [],\n",
        "    '4' : ['8'],\n",
        "    '8' : []\n",
        "}"
      ],
      "metadata": {
        "id": "W4ELkC2PSepK"
      },
      "execution_count": null,
      "outputs": []
    },
    {
      "cell_type": "code",
      "source": [
        "visited = []\n",
        "queue =[]\n",
        "def bfs(visited,graph,node):\n",
        "  visited.append(node)\n",
        "  queue.append(node)\n",
        "  while queue:\n",
        "    m = queue.pop(0)\n",
        "    print(m,end = \" \")\n",
        "    for neighbour in graph[m]:\n",
        "      if neighbour not in visited:\n",
        "        visited.append(neighbour)\n",
        "        queue.append(neighbour)\n",
        "print(\"Following is the Breadth_First Search\")\n",
        "bfs(visited,graph,'5')"
      ],
      "metadata": {
        "colab": {
          "base_uri": "https://localhost:8080/"
        },
        "id": "3ebNoA6FTIG3",
        "outputId": "81ca4333-d758-4a27-c40b-610118311ddd"
      },
      "execution_count": null,
      "outputs": [
        {
          "output_type": "stream",
          "name": "stdout",
          "text": [
            "Following is the Breadth_First Search\n",
            "5 3 7 2 4 8 "
          ]
        }
      ]
    },
    {
      "cell_type": "code",
      "source": [
        "graph ={\n",
        "    '5' : ['3','7'],\n",
        "    '3' : ['2','4'],\n",
        "    '7' : ['8'],\n",
        "    '2' : [],\n",
        "    '4' : ['8'],\n",
        "    '8' : []\n",
        "}"
      ],
      "metadata": {
        "id": "4mP59T8XeBUG"
      },
      "execution_count": null,
      "outputs": []
    },
    {
      "cell_type": "code",
      "source": [
        "visited = set()\n",
        "def dfs(visited, graph, node):\n",
        "  if node not in visited:\n",
        "    print (node)\n",
        "    visited.add(node)\n",
        "    for neighbour in graph[node]:\n",
        "      dfs(visited, graph, neighbour)\n",
        "print(\"Following is the Depth-First Search\")\n",
        "dfs(visited, graph, '5')"
      ],
      "metadata": {
        "colab": {
          "base_uri": "https://localhost:8080/"
        },
        "id": "QhfVa90VeFoo",
        "outputId": "f2e43ba7-741f-4067-a62e-badee494989a"
      },
      "execution_count": null,
      "outputs": [
        {
          "output_type": "stream",
          "name": "stdout",
          "text": [
            "Following is the Depth-First Search\n",
            "5\n",
            "3\n",
            "2\n",
            "4\n",
            "8\n",
            "7\n"
          ]
        }
      ]
    },
    {
      "cell_type": "markdown",
      "source": [
        "Lab Tasks\n",
        "1. Make a class parallelogram and write a function to calculate its area."
      ],
      "metadata": {
        "id": "A1DmAjkvCRjE"
      }
    },
    {
      "cell_type": "code",
      "source": [
        "class Parallelogram:\n",
        "    def __init__(self, base, height):\n",
        "        self.base = base\n",
        "        self.height = height\n",
        "\n",
        "    def area(self):\n",
        "        return self.base * self.height\n",
        "\n",
        "b = float(input(\"Enter base: \"))\n",
        "h = float(input(\"Enter height: \"))\n",
        "\n",
        "p = Parallelogram(b, h)\n",
        "\n",
        "print(\"Area of Parallelogram =\", p.area())\n"
      ],
      "metadata": {
        "colab": {
          "base_uri": "https://localhost:8080/"
        },
        "id": "BQC0IHcW-ROn",
        "outputId": "e36fd64a-97a7-43f6-899e-7c5e77e1a5a3"
      },
      "execution_count": 1,
      "outputs": [
        {
          "output_type": "stream",
          "name": "stdout",
          "text": [
            "Enter base: 23\n",
            "Enter height: 33\n",
            "Area of Parallelogram = 759.0\n"
          ]
        }
      ]
    },
    {
      "cell_type": "markdown",
      "source": [
        ". Consider the following graph\n",
        "i. Draw a corresponding graph from the above Figure from Arad to Bucharest containing\n",
        "all possible nodes. (Arad as Start Node and Bucharest as Goal Node)\n",
        "ii. Apply breadth first search to reach the goal state, your output should have the path and\n",
        "the total distance to reach the path. 3. Apply depth first search on above to reach the goal state, your output should have the path\n",
        "and the total distance to reach the path."
      ],
      "metadata": {
        "id": "VVHUrf9_Cbba"
      }
    },
    {
      "cell_type": "code",
      "source": [
        "graph = {\n",
        "    'Arad': {'Zerind': 75, 'Sibiu': 140, 'Timisoara': 118},\n",
        "    'Zerind': {'Arad': 75, 'Oradea': 71},\n",
        "    'Oradea': {'Zerind': 71, 'Sibiu': 151},\n",
        "    'Timisoara': {'Arad': 118, 'Lugoj': 111},\n",
        "    'Lugoj': {'Timisoara': 111, 'Mehadia': 70},\n",
        "    'Mehadia': {'Lugoj': 70, 'Dobreta': 75},\n",
        "    'Dobreta': {'Mehadia': 75, 'Craiova': 120},\n",
        "    'Craiova': {'Dobreta': 120, 'Rimnicu Vilcea': 146, 'Pitesti': 138},\n",
        "    'Sibiu': {'Arad': 140, 'Oradea': 151, 'Fagaras': 99, 'Rimnicu Vilcea': 80},\n",
        "    'Rimnicu Vilcea': {'Sibiu': 80, 'Pitesti': 97, 'Craiova': 146},\n",
        "    'Fagaras': {'Sibiu': 99, 'Bucharest': 211},\n",
        "    'Pitesti': {'Rimnicu Vilcea': 97, 'Craiova': 138, 'Bucharest': 101},\n",
        "    'Bucharest': {'Fagaras': 211, 'Pitesti': 101, 'Giurgiu': 90, 'Urziceni': 85},\n",
        "    'Giurgiu': {'Bucharest': 90},\n",
        "    'Urziceni': {'Bucharest': 85, 'Vaslui': 142, 'Hirsova': 98},\n",
        "    'Vaslui': {'Urziceni': 142, 'Iasi': 92},\n",
        "    'Iasi': {'Vaslui': 92, 'Neamt': 87},\n",
        "    'Neamt': {'Iasi': 87},\n",
        "    'Hirsova': {'Urziceni': 98, 'Eforie': 86},\n",
        "    'Eforie': {'Hirsova': 86}\n",
        "}\n",
        "\n",
        "\n",
        "# Function to calculate total distance of a path\n",
        "def path_distance(path):\n",
        "    dist = 0\n",
        "    for i in range(len(path)-1):\n",
        "        dist += graph[path[i]][path[i+1]]\n",
        "    return dist\n",
        "\n",
        "\n",
        "# Breadth First Search (BFS)\n",
        "def bfs(start, goal):\n",
        "    from collections import deque\n",
        "    visited = set()\n",
        "    queue = deque([[start]])\n",
        "\n",
        "    while queue:\n",
        "        path = queue.popleft()\n",
        "        node = path[-1]\n",
        "\n",
        "        if node == goal:\n",
        "            return path\n",
        "\n",
        "        if node not in visited:\n",
        "            visited.add(node)\n",
        "            for neighbor in graph[node]:\n",
        "                new_path = list(path)\n",
        "                new_path.append(neighbor)\n",
        "                queue.append(new_path)\n",
        "    return None\n",
        "\n",
        "\n",
        "# Depth First Search (DFS)\n",
        "def dfs(start, goal):\n",
        "    stack = [[start]]\n",
        "    visited = set()\n",
        "\n",
        "    while stack:\n",
        "        path = stack.pop()\n",
        "        node = path[-1]\n",
        "\n",
        "        if node == goal:\n",
        "            return path\n",
        "\n",
        "        if node not in visited:\n",
        "            visited.add(node)\n",
        "            for neighbor in graph[node]:\n",
        "                new_path = list(path)\n",
        "                new_path.append(neighbor)\n",
        "                stack.append(new_path)\n",
        "    return None\n",
        "\n",
        "\n",
        "# MAIN PROGRAM\n",
        "start = 'Arad'\n",
        "goal = 'Bucharest'\n",
        "\n",
        "# BFS path\n",
        "bfs_path = bfs(start, goal)\n",
        "bfs_dist = path_distance(bfs_path)\n",
        "print(\"BFS Path:\", \" → \".join(bfs_path))\n",
        "print(\"Total Distance (BFS):\", bfs_dist)\n",
        "\n",
        "# DFS path\n",
        "dfs_path = dfs(start, goal)\n",
        "dfs_dist = path_distance(dfs_path)\n",
        "print(\"\\nDFS Path:\", \" → \".join(dfs_path))\n",
        "print(\"Total Distance (DFS):\", dfs_dist)\n"
      ],
      "metadata": {
        "colab": {
          "base_uri": "https://localhost:8080/"
        },
        "id": "v-kdGBV6Chz7",
        "outputId": "12c8418c-2954-40bc-82e9-f3759fd388d8"
      },
      "execution_count": 2,
      "outputs": [
        {
          "output_type": "stream",
          "name": "stdout",
          "text": [
            "BFS Path: Arad → Sibiu → Fagaras → Bucharest\n",
            "Total Distance (BFS): 450\n",
            "\n",
            "DFS Path: Arad → Timisoara → Lugoj → Mehadia → Dobreta → Craiova → Pitesti → Bucharest\n",
            "Total Distance (DFS): 733\n"
          ]
        }
      ]
    }
  ]
}