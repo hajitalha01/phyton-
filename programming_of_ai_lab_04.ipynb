{
  "nbformat": 4,
  "nbformat_minor": 0,
  "metadata": {
    "colab": {
      "provenance": []
    },
    "kernelspec": {
      "name": "python3",
      "display_name": "Python 3"
    },
    "language_info": {
      "name": "python"
    }
  },
  "cells": [
    {
      "cell_type": "markdown",
      "source": [
        "M.Talha Ramzan\n",
        "---\n",
        "2330-0141\n",
        "---\n",
        "BS AI\n",
        "---\n",
        "LAb 04\n",
        "---\n"
      ],
      "metadata": {
        "id": "TBYPYxvld_zm"
      }
    },
    {
      "cell_type": "markdown",
      "source": [
        "1. Write a function count_even_odd(numbers) that takes a list of integers and prints how many\n",
        "numbers are even and how many are odd. Use a loop and if condition."
      ],
      "metadata": {
        "id": "DGBtIe-B1ODO"
      }
    },
    {
      "cell_type": "code",
      "execution_count": null,
      "metadata": {
        "colab": {
          "base_uri": "https://localhost:8080/"
        },
        "id": "YOOd22oQd6J0",
        "outputId": "c86bb608-d056-4fef-92b3-9b8aa591064f"
      },
      "outputs": [
        {
          "output_type": "stream",
          "name": "stdout",
          "text": [
            "even nmber 5\n",
            "odd number 6\n"
          ]
        }
      ],
      "source": [
        "def count_even_odd(numbers):\n",
        "   even = 0\n",
        "   odd =  0\n",
        "   for num in numbers:\n",
        "     if num % 2 == 0:\n",
        "       even = even + 1\n",
        "     else:\n",
        "        odd = odd + 1\n",
        "   print(\"even nmber\", even)\n",
        "   print(\"odd number\", odd)\n",
        "number = [ 1,2,3,4,5,6,7,8,9,13,16]\n",
        "count_even_odd(number)"
      ]
    },
    {
      "cell_type": "markdown",
      "source": [
        "2. Write a function analyze_string(s) that counts how many characters in a string are vowels,\n",
        "consonants, digits, and special characters. Use for loop and if-elif statements."
      ],
      "metadata": {
        "id": "YBkd1rJA1Rrk"
      }
    },
    {
      "cell_type": "code",
      "source": [
        "def analyze_string(s):\n",
        "    vowels = 0\n",
        "    consonants = 0\n",
        "    digits =  0\n",
        "    special_chars =  0\n",
        "\n",
        "    for char in s:\n",
        "        if char.isalpha():\n",
        "            if char.lower() in 'aeiou':\n",
        "                vowels += 1\n",
        "            else:\n",
        "                consonants += 1\n",
        "        elif char.isdigit():\n",
        "            digits += 1\n",
        "        elif not char.isspace():\n",
        "            special_chars += 1\n",
        "\n",
        "    print(\"Vowels:\", vowels)\n",
        "    print(\"Consonants:\", consonants)\n",
        "    print(\"Digits:\", digits)\n",
        "    print(\"Special Characters:\", special_chars)\n",
        "\n",
        "input_string = \"hello,, @talha 1213\"\n",
        "analyze_string(input_string)"
      ],
      "metadata": {
        "colab": {
          "base_uri": "https://localhost:8080/"
        },
        "id": "63DKWGNa1UTG",
        "outputId": "6bef6285-225e-4c40-bf3d-d98650f12d68"
      },
      "execution_count": null,
      "outputs": [
        {
          "output_type": "stream",
          "name": "stdout",
          "text": [
            "Vowels: 4\n",
            "Consonants: 6\n",
            "Digits: 4\n",
            "Special Characters: 3\n"
          ]
        }
      ]
    },
    {
      "cell_type": "markdown",
      "source": [
        "3. Write a function find_max(t) that takes a tuple of numbers and returns the largest number using a\n",
        "loop (without using max())."
      ],
      "metadata": {
        "id": "SWg98vRx7kIT"
      }
    },
    {
      "cell_type": "code",
      "source": [
        "def find_max(t):\n",
        "    largest = t[0]\n",
        "\n",
        "    for num in t:\n",
        "        if num > largest:\n",
        "            largest = num\n",
        "\n",
        "    return largest\n",
        "\n",
        "numbers = (3, 7, 2, 9, 5)\n",
        "print(\"Largest number:\", find_max(numbers))\n"
      ],
      "metadata": {
        "colab": {
          "base_uri": "https://localhost:8080/"
        },
        "id": "L-DhSALD7kV9",
        "outputId": "2fa175c1-d064-4c82-e1f5-6a32cc218fae"
      },
      "execution_count": 1,
      "outputs": [
        {
          "output_type": "stream",
          "name": "stdout",
          "text": [
            "Largest number: 9\n"
          ]
        }
      ]
    },
    {
      "cell_type": "markdown",
      "source": [
        "\n",
        "4. Write a function search_student(record, name) that takes a dictionary of student names as keys and\n",
        "marks as values. If the student name exists, print their marks; otherwise, print “Record not found.”"
      ],
      "metadata": {
        "id": "JFVsJYi97rEL"
      }
    },
    {
      "cell_type": "code",
      "source": [
        "def search_student(record, name):\n",
        "    if name in record:\n",
        "        print(\"Marks of\", name, \":\", record[name])\n",
        "    else:\n",
        "        print(\"Record not found.\")\n",
        "\n",
        "students = {\n",
        "    \"Ali\": 85,\n",
        "    \"Talha\": 92,\n",
        "    \"Sara\": 78\n",
        "}\n",
        "\n",
        "search_student(students, \"Talha\")\n",
        "search_student(students, \"Hamza\")\n"
      ],
      "metadata": {
        "colab": {
          "base_uri": "https://localhost:8080/"
        },
        "id": "QFrtnN9Q7x_F",
        "outputId": "89938ffb-5fe9-480e-8fce-21e6b1056cf8"
      },
      "execution_count": 2,
      "outputs": [
        {
          "output_type": "stream",
          "name": "stdout",
          "text": [
            "Marks of Talha : 92\n",
            "Record not found.\n"
          ]
        }
      ]
    },
    {
      "cell_type": "markdown",
      "source": [
        "5. Write a function filter_greater_than(lst, threshold) that takes a list of integers and a threshold value.\n",
        "Print all numbers greater than the threshold, otherwise print “No numbers greater than threshold.”"
      ],
      "metadata": {
        "id": "3c12Cr8u74o0"
      }
    },
    {
      "cell_type": "code",
      "source": [
        "def filter_greater_than(lst, threshold):\n",
        "    greater_numbers = []\n",
        "\n",
        "    for num in lst:\n",
        "        if num > threshold:\n",
        "            greater_numbers.append(num)\n",
        "\n",
        "    if greater_numbers:\n",
        "        print(\"Numbers greater than threshold:\", greater_numbers)\n",
        "    else:\n",
        "        print(\"No numbers greater than threshold.\")\n",
        "\n",
        "numbers = [3, 10, 5, 8, 2]\n",
        "filter_greater_than(numbers, 6)\n"
      ],
      "metadata": {
        "colab": {
          "base_uri": "https://localhost:8080/"
        },
        "id": "USzLhwuK78F_",
        "outputId": "1ddafbe3-385a-42bd-b6c2-35fe531bbed9"
      },
      "execution_count": 3,
      "outputs": [
        {
          "output_type": "stream",
          "name": "stdout",
          "text": [
            "Numbers greater than threshold: [10, 8]\n"
          ]
        }
      ]
    },
    {
      "cell_type": "markdown",
      "source": [
        "6. Write a function is_palindrome(word) that checks whether the given string is a palindrome or not.\n",
        "Use string slicing or a loop for comparison."
      ],
      "metadata": {
        "id": "cWIjFgAA8Dm9"
      }
    },
    {
      "cell_type": "code",
      "source": [
        "def is_palindrome(word):\n",
        "\n",
        "    word = word.lower()\n",
        "\n",
        "    if word == word[::-1]:\n",
        "        print(\"It's a palindrome.\")\n",
        "    else:\n",
        "        print(\"Not a palindrome.\")\n",
        "\n",
        "is_palindrome(\"Madam\")\n",
        "is_palindrome(\"Hello\")\n"
      ],
      "metadata": {
        "colab": {
          "base_uri": "https://localhost:8080/"
        },
        "id": "-6tk6YJA8IX8",
        "outputId": "506e50ef-1451-4f2d-c595-29bde4c68b13"
      },
      "execution_count": 5,
      "outputs": [
        {
          "output_type": "stream",
          "name": "stdout",
          "text": [
            "It's a palindrome.\n",
            "Not a palindrome.\n"
          ]
        }
      ]
    },
    {
      "cell_type": "markdown",
      "source": [
        "7. Write a function char_frequency(text) that counts how many times each character appears in the\n",
        "string and stores it in a dictionary. Use a loop and if condition to check if a character already exists\n",
        "as a key."
      ],
      "metadata": {
        "id": "DkTHw1-Q8MVs"
      }
    },
    {
      "cell_type": "code",
      "source": [
        "def char_frequency(text):\n",
        "    freq = {}\n",
        "\n",
        "    for ch in text:\n",
        "        if ch in freq:\n",
        "            freq[ch] += 1\n",
        "        else:\n",
        "            freq[ch] = 1\n",
        "\n",
        "    print(freq)\n",
        "\n",
        "char_frequency(\"hello world\")\n"
      ],
      "metadata": {
        "colab": {
          "base_uri": "https://localhost:8080/"
        },
        "id": "zfOOnqY-8PQ6",
        "outputId": "6018724d-d6c8-4dbf-f84b-42b1adde8cd7"
      },
      "execution_count": 6,
      "outputs": [
        {
          "output_type": "stream",
          "name": "stdout",
          "text": [
            "{'h': 1, 'e': 1, 'l': 3, 'o': 2, ' ': 1, 'w': 1, 'r': 1, 'd': 1}\n"
          ]
        }
      ]
    },
    {
      "cell_type": "markdown",
      "source": [
        "8. Create a custom Python module named custom_math.py that implements the following\n",
        "mathematical functions:\n",
        "* factorial(n) – calculates the factorial of n using recursion\n",
        "* fibonacci(n) – returns the first n numbers in the Fibonacci sequence using recursion\n",
        "* gcd(a, b) – calculates the greatest common divisor of two numbers a and b.\n",
        "Then, write a Python program that imports the module and asks the user to input values for these\n",
        "functions. The program should call each function from the module and display the results."
      ],
      "metadata": {
        "id": "vF3g1z2Z8XLj"
      }
    },
    {
      "cell_type": "code",
      "source": [
        "def factorial(n):\n",
        "    if n == 0 or n == 1:\n",
        "        return 1\n",
        "    else:\n",
        "        return n * factorial(n - 1)\n",
        "\n",
        "def fibonacci(n):\n",
        "    if n <= 1:\n",
        "        return n\n",
        "    else:\n",
        "        return fibonacci(n - 1) + fibonacci(n - 2)\n",
        "\n",
        "def gcd(a, b):\n",
        "    if b == 0:\n",
        "        return a\n",
        "    else:\n",
        "        return gcd(b, a % b)\n",
        "\n",
        "n = int(input(\"Enter number for factorial: \"))\n",
        "print(\"Factorial =\", factorial(n))\n",
        "\n",
        "n = int(input(\"\\nEnter number for Fibonacci: \"))\n",
        "print(\"Fibonacci =\", [fibonacci(i) for i in range(n)])\n",
        "\n",
        "a = int(input(\"\\nEnter first number: \"))\n",
        "b = int(input(\"Enter second number: \"))\n",
        "print(\"GCD =\", gcd(a, b))"
      ],
      "metadata": {
        "colab": {
          "base_uri": "https://localhost:8080/"
        },
        "id": "mUS5osGS8lsj",
        "outputId": "934f20de-192c-46a0-9b1a-4102c11b6d09"
      },
      "execution_count": 10,
      "outputs": [
        {
          "output_type": "stream",
          "name": "stdout",
          "text": [
            "Enter number for factorial: 4\n",
            "Factorial = 24\n",
            "\n",
            "Enter number for Fibonacci: 7\n",
            "Fibonacci = [0, 1, 1, 2, 3, 5, 8]\n",
            "\n",
            "Enter first number: 4\n",
            "Enter second number: 5\n",
            "GCD = 1\n"
          ]
        }
      ]
    }
  ]
}