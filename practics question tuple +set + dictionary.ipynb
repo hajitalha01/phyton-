{
  "nbformat": 4,
  "nbformat_minor": 0,
  "metadata": {
    "colab": {
      "provenance": []
    },
    "kernelspec": {
      "name": "python3",
      "display_name": "Python 3"
    },
    "language_info": {
      "name": "python"
    }
  },
  "cells": [
    {
      "cell_type": "markdown",
      "source": [
        "M.Talha Ramzan\n",
        "\n",
        "---\n",
        "\n",
        "2330-0141\n",
        "---\n",
        "BS AI\n",
        "---\n",
        "AI Lab 02"
      ],
      "metadata": {
        "id": "M3ahKqUejb-b"
      }
    },
    {
      "cell_type": "markdown",
      "source": [
        "Task # 1:\n",
        "Write a Python script to print a dictionary where the keys are numbers between 1 and 10 (both\n",
        "included) and the values are square of keys. Sample Dictionary: {1: 1, 2: 4, 3: 9, 4: 16, 5: 25, 6: 36, 7: 49, 8: 64, 9: 81, 10: 100 **bold text**"
      ],
      "metadata": {
        "id": "u9HrgsiBhGGo"
      }
    },
    {
      "cell_type": "code",
      "execution_count": null,
      "metadata": {
        "colab": {
          "base_uri": "https://localhost:8080/"
        },
        "id": "9V5hD3Wvf3mK",
        "outputId": "229532f9-777c-426c-ea69-e687d2fc3642"
      },
      "outputs": [
        {
          "output_type": "stream",
          "name": "stdout",
          "text": [
            "{1: 1, 2: 4, 3: 9, 4: 16, 5: 25, 6: 36, 7: 49, 8: 64, 9: 81, 10: 100}\n"
          ]
        }
      ],
      "source": [
        "saqure_dict = {}\n",
        "\n",
        "for i in range(1, 11):\n",
        "    saqure_dict[i] = i**2\n",
        "\n",
        "print(saqure_dict)\n"
      ]
    },
    {
      "cell_type": "markdown",
      "source": [
        "Task no 02\n",
        "---\n",
        "Create a simple book inventory system using tuples. Each book in the inventory should be\n",
        "represented as a tuple containing the following information:\n",
        " Title\n",
        " Author\n",
        " Publication Year\n",
        " ISBN (International Standard Book Number)\n",
        " Quantity in Stock\n",
        "1. Define an empty list named book_inventory to store tuples representing books. 2. Implement a function add_book that takes input for a new book and adds it to the\n",
        "book_inventory. The function should prompt the user for the book details (title, author, publication year, ISBN, quantity) and create a tuple to represent the book. Append this\n",
        "tuple to the book_inventory. 3. Implement a function search_book that takes the ISBN as input and searches for the book\n",
        "in the inventory. If the book is found, print its details; otherwise, print a message indicating\n",
        "that the book is not in the inventory. 4. Implement a function display_inventory that prints the details of all books in the inventory. Each book's information should be printed on a new line. 5. Implement a function sell_book that takes the ISBN and quantity as input and updates the\n",
        "stock quantity of the corresponding book in the inventory. If the quantity is greater than the\n",
        "available stock, print a message indicating insufficient stock. 6. Test your inventory system by adding a few books, searching for them, displaying the\n",
        "inventory, and selling books."
      ],
      "metadata": {
        "id": "PgExh5Bcj5oo"
      }
    },
    {
      "cell_type": "code",
      "source": [
        "\n",
        "book_inventory = []\n",
        "\n",
        "title = input(\"Enter book title: \")\n",
        "author = input(\"Enter author: \")\n",
        "publication_year = input(\"Enter publication year: \")\n",
        "isbn = input(\"Enter ISBN: \")\n",
        "quantity = input(\"Enter quantity in stock: \")\n",
        "\n",
        "book = (title, author, publication_year, isbn, quantity)\n",
        "\n",
        "book_inventory.append(book)\n",
        "print(f\"Book '{title}' added to inventory.\")\n",
        "title = input(\"Enter another book title: \")\n",
        "author = input(\"Enter author: \")\n",
        "publication_year = input(\"Enter publication year: \")\n",
        "isbn = input(\"Enter ISBN: \")\n",
        "quantity = input(\"Enter quantity in stock: \")\n",
        "\n",
        "book = (title, author, publication_year, isbn, quantity)\n",
        "\n",
        "book_inventory.append(book)\n",
        "print(f\"Book '{title}' added to inventory.\")\n",
        "\n",
        "isbn_to_search = input(\"Enter ISBN to search for a book: \")\n",
        "\n",
        "found = False\n",
        "for book in book_inventory:\n",
        "    if book[3] == isbn_to_search:\n",
        "        found = True\n",
        "        print(\"Book found:\")\n",
        "        print(f\"Title: {book[0]}, Author: {book[1]}, Year: {book[2]}, ISBN: {book[3]}, Quantity: {book[4]}\")\n",
        "        break\n",
        "\n",
        "if not found:\n",
        "    print(\"Book not found in the inventory.\")\n",
        "\n",
        "print(\"\\nDisplaying all books in the inventory:\")\n",
        "for book in book_inventory:\n",
        "    print(f\"Title: {book[0]}, Author: {book[1]}, Year: {book[2]}, ISBN: {book[3]}, Quantity: {book[4]}\")\n",
        "\n",
        "isbn_to_sell = input(\"Enter ISBN of book to sell: \")\n",
        "quantity_to_sell = int(input(\"Enter quantity to sell: \"))\n",
        "\n",
        "sold = False\n",
        "for i in range(len(book_inventory)):\n",
        "    if book_inventory[i][3] == isbn_to_sell:\n",
        "        current_quantity = int(book_inventory[i][4])\n",
        "        if current_quantity >= quantity_to_sell:\n",
        "            new_quantity = current_quantity - quantity_to_sell\n",
        "            book_inventory[i] = (book_inventory[i][0], book_inventory[i][1], book_inventory[i][2], book_inventory[i][3], str(new_quantity))\n",
        "            print(f\"Sold {quantity_to_sell} copy(s) of '{book_inventory[i][0]}'.\")\n",
        "            sold = True\n",
        "            break\n",
        "        else:\n",
        "            print(f\"Not enough stock for '{book_inventory[i][0]}'. Only {current_quantity} copies available.\")\n",
        "            sold = True\n",
        "            break\n",
        "\n",
        "if not sold:\n",
        "    print(\"Book not found in the inventory.\")\n",
        "\n",
        "print(\"\\nUpdated Inventory:\")\n",
        "for book in book_inventory:\n",
        "    print(f\"Title: {book[0]}, Author: {book[1]}, Year: {book[2]}, ISBN: {book[3]}, Quantity: {book[4]}\")\n"
      ],
      "metadata": {
        "id": "6_s_du1GkICX",
        "colab": {
          "base_uri": "https://localhost:8080/"
        },
        "outputId": "3edadc0c-ec40-4233-e65c-7966c458670d"
      },
      "execution_count": 1,
      "outputs": [
        {
          "output_type": "stream",
          "name": "stdout",
          "text": [
            "Enter book title: python\n",
            "Enter author: talha\n",
            "Enter publication year: 2024\n",
            "Enter ISBN: 1221\n",
            "Enter quantity in stock: 12\n",
            "Book 'python' added to inventory.\n",
            "Enter another book title: ai\n",
            "Enter author: ali\n",
            "Enter publication year: 2021\n",
            "Enter ISBN: 14\n",
            "Enter quantity in stock: 23\n",
            "Book 'ai' added to inventory.\n",
            "Enter ISBN to search for a book: python\n",
            "Book not found in the inventory.\n",
            "\n",
            "Displaying all books in the inventory:\n",
            "Title: python, Author: talha, Year: 2024, ISBN: 1221, Quantity: 12\n",
            "Title: ai, Author: ali, Year: 2021, ISBN: 14, Quantity: 23\n",
            "Enter ISBN of book to sell: 12\n",
            "Enter quantity to sell: 1\n",
            "Book not found in the inventory.\n",
            "\n",
            "Updated Inventory:\n",
            "Title: python, Author: talha, Year: 2024, ISBN: 1221, Quantity: 12\n",
            "Title: ai, Author: ali, Year: 2021, ISBN: 14, Quantity: 23\n"
          ]
        }
      ]
    },
    {
      "cell_type": "markdown",
      "source": [
        "**[Task # 3:](https://)**"
      ],
      "metadata": {
        "id": "6E8_cLfYUUsj"
      }
    },
    {
      "cell_type": "code",
      "source": [
        "taldict={\n",
        "    '5': (3,7),\n",
        "    '3': (2,4),\n",
        "    '7': (8),\n",
        "    '2': (),\n",
        "    '4': (8),\n",
        "    '8': ()\n",
        "}\n",
        "print(taldict)\n",
        "print(taldict['5'])"
      ],
      "metadata": {
        "colab": {
          "base_uri": "https://localhost:8080/"
        },
        "id": "3KvgxkSVUf8M",
        "outputId": "9d9bb200-5e6e-4e40-cf4b-404d61396a55"
      },
      "execution_count": 2,
      "outputs": [
        {
          "output_type": "stream",
          "name": "stdout",
          "text": [
            "{'5': (3, 7), '3': (2, 4), '7': 8, '2': (), '4': 8, '8': ()}\n",
            "(3, 7)\n"
          ]
        }
      ]
    },
    {
      "cell_type": "markdown",
      "source": [
        "**[Task # 4:](https://)**"
      ],
      "metadata": {
        "id": "W8et0VMoVJ3m"
      }
    },
    {
      "cell_type": "code",
      "source": [
        "talhadict={\n",
        "    'A':[('B',6),('E',1),('C',9)],\n",
        "    'B':[('A',6),('E',4),('D',3)],\n",
        "    'C':[('A',9),('F',2),('G',3)],\n",
        "    'D':[('B',3),('E',5),('F',7)],\n",
        "    'E':[('A',1),('B',4),('D',5),('f',6)],\n",
        "    'F':[('C',2),('E',6),('D',7)],\n",
        "    'G':[]\n",
        "}\n",
        "print(talhadict)\n"
      ],
      "metadata": {
        "colab": {
          "base_uri": "https://localhost:8080/"
        },
        "id": "XEY59EcAVO6Q",
        "outputId": "53a09918-159d-4e87-cb73-0a2718ef84ca"
      },
      "execution_count": 5,
      "outputs": [
        {
          "output_type": "stream",
          "name": "stdout",
          "text": [
            "{'A': [('B', 6), ('E', 1), ('C', 9)], 'B': [('A', 6), ('E', 4), ('D', 3)], 'C': [('A', 9), ('F', 2), ('G', 3)], 'D': [('B', 3), ('E', 5), ('F', 7)], 'E': [('A', 1), ('B', 4), ('D', 5), ('f', 6)], 'F': [('C', 2), ('E', 6), ('D', 7)], 'G': []}\n"
          ]
        }
      ]
    }
  ]
}