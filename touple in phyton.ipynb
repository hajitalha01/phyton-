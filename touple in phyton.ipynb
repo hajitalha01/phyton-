{
  "nbformat": 4,
  "nbformat_minor": 0,
  "metadata": {
    "colab": {
      "provenance": []
    },
    "kernelspec": {
      "name": "python3",
      "display_name": "Python 3"
    },
    "language_info": {
      "name": "python"
    }
  },
  "cells": [
    {
      "cell_type": "code",
      "execution_count": 2,
      "metadata": {
        "colab": {
          "base_uri": "https://localhost:8080/"
        },
        "id": "edUzd6SGFM3x",
        "outputId": "3b30d2c4-bcf1-4cdb-c7da-06cd2ee0ae7b"
      },
      "outputs": [
        {
          "output_type": "stream",
          "name": "stdout",
          "text": [
            "('balck', 'blue', 'white')\n",
            "<class 'tuple'>\n"
          ]
        }
      ],
      "source": [
        "color =(\"balck\", \"blue\", \"white\")\n",
        "print(color)\n",
        "print(type(color))"
      ]
    },
    {
      "cell_type": "code",
      "source": [
        "if \"yellow\" in color:\n",
        "  print(\"yellow color is in tuple\")\n",
        "else:\n",
        " print(\"yellow color is not in tuple\")"
      ],
      "metadata": {
        "colab": {
          "base_uri": "https://localhost:8080/"
        },
        "id": "JEUH9c1aKyVj",
        "outputId": "3326c23d-fca6-4530-c10e-35b496e6bd9b"
      },
      "execution_count": 3,
      "outputs": [
        {
          "output_type": "stream",
          "name": "stdout",
          "text": [
            "yellow color is not in tuple\n"
          ]
        }
      ]
    },
    {
      "cell_type": "code",
      "source": [
        "color_list =list(color)\n",
        "color_list[0]=\"pink\"\n",
        "color_list.append (\"perple\")\n",
        "color = tuple(color_list)\n",
        "print(color)\n",
        "\n"
      ],
      "metadata": {
        "colab": {
          "base_uri": "https://localhost:8080/"
        },
        "id": "yLbYAtU6LX65",
        "outputId": "6da8fb47-5176-41da-c72e-a8034d2eb638"
      },
      "execution_count": 5,
      "outputs": [
        {
          "output_type": "stream",
          "name": "stdout",
          "text": [
            "('pink', 'blue', 'white', 'perple')\n"
          ]
        }
      ]
    },
    {
      "cell_type": "code",
      "source": [
        "(color1,color2,color3,color4)= color\n",
        "print(\"color4 =\",color4)\n",
        "(color1, *colors) = color\n",
        "print(\"color1 \",color1)\n",
        "print(\"colors \",color)\n",
        "(color1, *colors, color4) = color\n",
        "print(color1)\n",
        "print(colors)\n",
        "\n"
      ],
      "metadata": {
        "colab": {
          "base_uri": "https://localhost:8080/"
        },
        "id": "LDx7RHyQMXb6",
        "outputId": "7299b087-d3a4-4d31-a8ae-b08e9cf0f6fa"
      },
      "execution_count": 6,
      "outputs": [
        {
          "output_type": "stream",
          "name": "stdout",
          "text": [
            "color4 = perple\n",
            "color1  pink\n",
            "colors  ('pink', 'blue', 'white', 'perple')\n",
            "pink\n",
            "['blue', 'white']\n"
          ]
        }
      ]
    },
    {
      "cell_type": "code",
      "source": [
        "for i in range(len(color)):\n",
        "    print(color[i])"
      ],
      "metadata": {
        "colab": {
          "base_uri": "https://localhost:8080/"
        },
        "id": "AbZMtjxAODZI",
        "outputId": "73540068-4ac6-454f-8f07-3c9091d0740e"
      },
      "execution_count": 9,
      "outputs": [
        {
          "output_type": "stream",
          "name": "stdout",
          "text": [
            "pink\n",
            "blue\n",
            "white\n",
            "perple\n"
          ]
        }
      ]
    },
    {
      "cell_type": "code",
      "source": [
        "for value in color:\n",
        "  print(value)"
      ],
      "metadata": {
        "colab": {
          "base_uri": "https://localhost:8080/"
        },
        "id": "2a-Xj4ycOW7R",
        "outputId": "939f41d9-f4ad-4e7b-ece0-bed3720aef6b"
      },
      "execution_count": 10,
      "outputs": [
        {
          "output_type": "stream",
          "name": "stdout",
          "text": [
            "pink\n",
            "blue\n",
            "white\n",
            "perple\n"
          ]
        }
      ]
    },
    {
      "cell_type": "code",
      "source": [
        "i = 0\n",
        "while i in range(len(color)):\n",
        "  print(color[i])\n",
        "  i = i+1"
      ],
      "metadata": {
        "colab": {
          "base_uri": "https://localhost:8080/"
        },
        "id": "t_KkFAz5OcPV",
        "outputId": "6fe69b19-acef-423f-8cd6-fc51ca105dc7"
      },
      "execution_count": 12,
      "outputs": [
        {
          "output_type": "stream",
          "name": "stdout",
          "text": [
            "pink\n",
            "blue\n",
            "white\n",
            "perple\n"
          ]
        }
      ]
    },
    {
      "cell_type": "code",
      "source": [
        "color_new = (\"purple\",\"orange\")\n",
        "color_join = color + color_new\n",
        "print(color_join)"
      ],
      "metadata": {
        "colab": {
          "base_uri": "https://localhost:8080/"
        },
        "id": "bdl3BDvcPAJM",
        "outputId": "0dfa93fb-d5bf-462a-b611-d2d609e45115"
      },
      "execution_count": 13,
      "outputs": [
        {
          "output_type": "stream",
          "name": "stdout",
          "text": [
            "('pink', 'blue', 'white', 'perple', 'purple', 'orange')\n"
          ]
        }
      ]
    },
    {
      "cell_type": "code",
      "source": [
        "color_multiply = color * 2\n",
        "print(color_multiply)"
      ],
      "metadata": {
        "colab": {
          "base_uri": "https://localhost:8080/"
        },
        "id": "zJlOyz8lPSDB",
        "outputId": "595a7e43-2bd6-41ec-b83c-f78858351580"
      },
      "execution_count": 15,
      "outputs": [
        {
          "output_type": "stream",
          "name": "stdout",
          "text": [
            "('pink', 'blue', 'white', 'perple', 'pink', 'blue', 'white', 'perple')\n"
          ]
        }
      ]
    }
  ]
}