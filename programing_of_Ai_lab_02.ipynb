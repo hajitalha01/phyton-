{
  "nbformat": 4,
  "nbformat_minor": 0,
  "metadata": {
    "colab": {
      "provenance": []
    },
    "kernelspec": {
      "name": "python3",
      "display_name": "Python 3"
    },
    "language_info": {
      "name": "python"
    }
  },
  "cells": [
    {
      "cell_type": "markdown",
      "source": [
        "M.Talha Ramzan\n",
        "----\n",
        "2330-0141\n",
        "---\n",
        "BS AI\n",
        "---\n",
        "lab 02"
      ],
      "metadata": {
        "id": "VttE9Gr7nhAc"
      }
    },
    {
      "cell_type": "markdown",
      "source": [
        "Task 1:\n",
        "Library Catalog System\n",
        "Build a library catalog system that keeps track of books, authors, and their availability using\n",
        "dictionaries, lists, and tuples.\n",
        "Create a dictionary where the keys are authors&#39; names, and the values are lists of tuples. Each\n",
        "tuple represents a book with details (e.g., title, publication year, availability status).\n",
        "Implement functions to:\n",
        " Add new books to the catalog.\n",
        " Mark a book as borrowed or returned.\n",
        " Display a list of books by a specific author.\n",
        " Find and display the oldest and newest books in the catalog.\n",
        " List books that are currently available for borrowing."
      ],
      "metadata": {
        "id": "75f-hH1PnxxR"
      }
    },
    {
      "cell_type": "code",
      "execution_count": 3,
      "metadata": {
        "id": "CTzjmxxynVWg",
        "colab": {
          "base_uri": "https://localhost:8080/"
        },
        "outputId": "441211d7-21aa-4272-ec9a-65220f1ed26a"
      },
      "outputs": [
        {
          "output_type": "stream",
          "name": "stdout",
          "text": [
            "Books by Ahmed:\n",
            "Title: Book of Ahmed, Year: 2020, Availability: available\n",
            "'Book of Ahmed' has been marked as borrowed.\n",
            "Books currently available for borrowing:\n",
            "Title: Book of Ali, Author: Ali, Year: 2020\n",
            "Title: Book of Hassan, Author: Hassan, Year: 2020\n",
            "Title: Book of Omar, Author: Omar, Year: 2020\n",
            "Title: Book of Abdullah, Author: Abdullah, Year: 2020\n",
            "Title: Book of Ibrahim, Author: Ibrahim, Year: 2020\n",
            "Title: Book of Sami, Author: Sami, Year: 2020\n",
            "Title: Book of Ayaan, Author: Ayaan, Year: 2020\n",
            "Title: Book of Usman, Author: Usman, Year: 2020\n",
            "Title: Book of Bilal, Author: Bilal, Year: 2020\n",
            "Title: Book of Faizan, Author: Faizan, Year: 2020\n",
            "Title: Book of Zain, Author: Zain, Year: 2020\n",
            "Title: Book of Haris, Author: Haris, Year: 2020\n",
            "Title: Book of Tariq, Author: Tariq, Year: 2020\n",
            "Title: Book of Imran, Author: Imran, Year: 2020\n",
            "Oldest book: 'Book of Ahmed' by Imran, published in 2020\n",
            "Newest book: 'Book of Ahmed' by Imran, published in 2020\n"
          ]
        }
      ],
      "source": [
        "catalog = {}\n",
        "def add_book(author, title, publication_year, availability):\n",
        "    if author not in catalog:\n",
        "        catalog[author] = []\n",
        "    catalog[author].append((title, publication_year, availability))\n",
        "\n",
        "def update_availability(author, title, status):\n",
        "    for book in catalog.get(author, []):\n",
        "        if book[0] == title:\n",
        "\n",
        "            book_index = catalog[author].index(book)\n",
        "            catalog[author][book_index] = (book[0], book[1], status)\n",
        "            print(f\"'{title}' has been marked as {status}.\")\n",
        "            return\n",
        "    print(f\"'{title}' not found under {author}.\")\n",
        "\n",
        "def display_books_by_author(author):\n",
        "    if author in catalog:\n",
        "        print(f\"Books by {author}:\")\n",
        "        for book in catalog[author]:\n",
        "            print(f\"Title: {book[0]}, Year: {book[1]}, Availability: {book[2]}\")\n",
        "    else:\n",
        "        print(f\"No books found for author {author}.\")\n",
        "\n",
        "def find_oldest_and_newest_books():\n",
        "    oldest = None\n",
        "    newest = None\n",
        "    for author in catalog:\n",
        "        for book in catalog[author]:\n",
        "            if oldest is None or book[1] < oldest[1]:\n",
        "                oldest = book\n",
        "            if newest is None or book[1] > newest[1]:\n",
        "                newest = book\n",
        "    if oldest and newest:\n",
        "        print(f\"Oldest book: '{oldest[0]}' by {author}, published in {oldest[1]}\")\n",
        "        print(f\"Newest book: '{newest[0]}' by {author}, published in {newest[1]}\")\n",
        "    else:\n",
        "        print(\"No books in the catalog.\")\n",
        "\n",
        "def available_books():\n",
        "    print(\"Books currently available for borrowing:\")\n",
        "    for author in catalog:\n",
        "        for book in catalog[author]:\n",
        "            if book[2] == \"available\":\n",
        "                print(f\"Title: {book[0]}, Author: {author}, Year: {book[1]}\")\n",
        "\n",
        "\n",
        "\n",
        "for name in boys_names:\n",
        "    add_book(name, f\"Book of {name}\", 2020, \"available\")\n",
        "\n",
        "\n",
        "display_books_by_author(\"Ahmed\")\n",
        "update_availability(\"Ahmed\", \"Book of Ahmed\", \"borrowed\")\n",
        "\n",
        "available_books()\n",
        "find_oldest_and_newest_books()\n",
        "\n"
      ]
    },
    {
      "cell_type": "markdown",
      "source": [
        "Task 2:\n",
        "Applying Celsius to Fahrenheit\n",
        " Create a list of temperatures in Celsius and use a lambda function to convert them to\n",
        "Fahrenheit.\n",
        "\n",
        "\n",
        "\n"
      ],
      "metadata": {
        "id": "biCdlOiln3hk"
      }
    },
    {
      "cell_type": "code",
      "source": [
        "\n",
        "celsius_temperatures = [12, 13, 14, 54, 34, 98]\n",
        "fahrenheit_temperatures = list(map(lambda c: (9/5) * c + 32, celsius_temperatures))\n",
        "print(fahrenheit_temperatures)\n"
      ],
      "metadata": {
        "colab": {
          "base_uri": "https://localhost:8080/"
        },
        "id": "uhcN0Cq1oBIC",
        "outputId": "732cf119-5d65-4bf9-a653-49fac5a46a22"
      },
      "execution_count": null,
      "outputs": [
        {
          "output_type": "stream",
          "name": "stdout",
          "text": [
            "[53.6, 55.400000000000006, 57.2, 129.2, 93.2, 208.4]\n"
          ]
        }
      ]
    },
    {
      "cell_type": "markdown",
      "source": [
        "Task 3:\n",
        "Given a string and reverse the order of words in the string, but keeps each word itself in the original\n",
        "order. Ignore leading/trailing spaces and reduce multiple spaces between words to a single space.\n",
        "Example:\n",
        "Text = “ Hello python world “\n",
        "Expected output: “world python Hello”"
      ],
      "metadata": {
        "id": "Z4U5rqiQtxDd"
      }
    },
    {
      "cell_type": "code",
      "source": [
        "stringa = \"Hello python word\"\n",
        "words = stringa.split()\n",
        "reversed_string = ' '.join(reversed(words))\n",
        "print(reversed_string)\n"
      ],
      "metadata": {
        "colab": {
          "base_uri": "https://localhost:8080/"
        },
        "id": "6siPTHbTtyGw",
        "outputId": "15586274-94f3-41f9-b8f6-8bacf11f2c93"
      },
      "execution_count": null,
      "outputs": [
        {
          "output_type": "stream",
          "name": "stdout",
          "text": [
            "word python Hello\n"
          ]
        }
      ]
    },
    {
      "cell_type": "markdown",
      "source": [
        "Task 4:\n",
        "Given a string containing multiple sentences separated by periods, split the string into individual\n",
        "sentences, reverse the order of the sentences, and then join them back into a single string.\n",
        "Example:\n",
        "\n",
        "Text = “This is the first sentence. Here is another. And finally, the last one. “\n",
        "Expected output: “. And finally, the last one. Here is another. This is the first sentence”"
      ],
      "metadata": {
        "id": "IQ-rF_FLyLgh"
      }
    },
    {
      "cell_type": "code",
      "source": [
        "sentence = \"This is the first sentence. here is another.And finally, the last one\"\n",
        "sentences = sentence.split('.')\n",
        "reversed_sentences = sentences[::-1]\n",
        "reversed_sentences = ''.join(reversed_sentences)\n",
        "print(reversed_sentences)\n"
      ],
      "metadata": {
        "colab": {
          "base_uri": "https://localhost:8080/"
        },
        "id": "ZY_1UUGHyjJU",
        "outputId": "5258b2c0-afed-4267-da3c-273452704b24"
      },
      "execution_count": null,
      "outputs": [
        {
          "output_type": "stream",
          "name": "stdout",
          "text": [
            "And finally, the last one here is anotherThis is the first sentence\n"
          ]
        }
      ]
    },
    {
      "cell_type": "markdown",
      "source": [
        "**Write a program that finds the absolute difference between the sums of its diagonals.**"
      ],
      "metadata": {
        "id": "QpFccSVkiSIP"
      }
    },
    {
      "cell_type": "code",
      "source": [
        "def diagonal_difference(matrix):\n",
        "    n = len(matrix)\n",
        "\n",
        "    primary_diagonal_sum = 0\n",
        "    secondary_diagonal_sum = 0\n",
        "\n",
        "    for i in range(n):\n",
        "        primary_diagonal_sum += matrix[i][i]\n",
        "        secondary_diagonal_sum += matrix[i][n-1-i]\n",
        "\n",
        "    difference = abs(primary_diagonal_sum - secondary_diagonal_sum)\n",
        "\n",
        "    return difference\n",
        "\n",
        "matrix = [\n",
        "    [11, 2, 4],\n",
        "    [4, 5, 6],\n",
        "    [10, 8, -12]\n",
        "]\n",
        "\n",
        "result = diagonal_difference(matrix)\n",
        "print(\"The absolute difference between the sums of the diagonals is:\", result)\n"
      ],
      "metadata": {
        "colab": {
          "base_uri": "https://localhost:8080/"
        },
        "id": "gM0toJuXib9n",
        "outputId": "78cfebcc-f7a9-420a-cdac-a634b6a1570b"
      },
      "execution_count": 4,
      "outputs": [
        {
          "output_type": "stream",
          "name": "stdout",
          "text": [
            "The absolute difference between the sums of the diagonals is: 15\n"
          ]
        }
      ]
    },
    {
      "cell_type": "markdown",
      "source": [
        "Task 6:\n",
        "Take input from the user about the student&#39;s data (firstName, lastName, age, degreeProgram)\n",
        "for 10 students &amp; save it in a list. Each student data is a dictionary. Then display the students data\n",
        "(dictionaries) in reverse order using negative indexing of the list. **bold text**"
      ],
      "metadata": {
        "id": "YhDmvI-Fi-yf"
      }
    },
    {
      "cell_type": "code",
      "source": [
        "\n",
        "students = []\n",
        "\n",
        "for i in range(10):\n",
        "    print(f\"Enter details for Student {i+1}:\")\n",
        "\n",
        "    firstName = input(\"Enter first name: \")\n",
        "    lastName = input(\"Enter last name: \")\n",
        "    age = int(input(\"Enter age: \"))\n",
        "    degreeProgram = input(\"Enter degree program: \")\n",
        "    student_data = {\n",
        "        \"firstName\": firstName,\n",
        "        \"lastName\": lastName,\n",
        "        \"age\": age,\n",
        "        \"degreeProgram\": degreeProgram\n",
        "    }\n",
        "    students.append(student_data)\n",
        "print(\"\\nDisplaying student data in reverse order:\")\n",
        "for i in range(1, 11):\n",
        "    print(f\"Student {i}: {students[-i]}\")\n"
      ],
      "metadata": {
        "colab": {
          "base_uri": "https://localhost:8080/"
        },
        "id": "6NEHAQeCjIh_",
        "outputId": "52d1a256-1674-4aa3-f689-720abe97d0be"
      },
      "execution_count": 5,
      "outputs": [
        {
          "output_type": "stream",
          "name": "stdout",
          "text": [
            "Enter details for Student 1:\n",
            "Enter first name: talha\n",
            "Enter last name: ramzan\n",
            "Enter age: 21\n",
            "Enter degree program: bs ai\n",
            "Enter details for Student 2:\n",
            "Enter first name: ali\n",
            "Enter last name: khan\n",
            "Enter age: 23\n",
            "Enter degree program: bs cs\n",
            "Enter details for Student 3:\n",
            "Enter first name: kashif\n",
            "Enter last name: ali\n",
            "Enter age: 32\n",
            "Enter degree program: bs cys\n",
            "Enter details for Student 4:\n",
            "Enter first name: ayoub\n",
            "Enter last name: khan\n",
            "Enter age: 21\n",
            "Enter degree program: bs cs\n",
            "Enter details for Student 5:\n",
            "Enter first name: heer\n",
            "Enter last name: baloch\n",
            "Enter age: 54\n",
            "Enter degree program: bsse\n",
            "Enter details for Student 6:\n",
            "Enter first name: aliena\n",
            "Enter last name: khan\n",
            "Enter age: 32\n",
            "Enter degree program: bscs\n",
            "Enter details for Student 7:\n",
            "Enter first name: amara\n",
            "Enter last name: ayesha\n",
            "Enter age: 32\n",
            "Enter degree program: dpt\n",
            "Enter details for Student 8:\n",
            "Enter first name: ayesha\n",
            "Enter last name: khan\n",
            "Enter age: 32\n",
            "Enter degree program: mbbs\n",
            "Enter details for Student 9:\n",
            "Enter first name: dua\n",
            "Enter last name: bibi\n",
            "Enter age: 19\n",
            "Enter degree program: bds\n",
            "Enter details for Student 10:\n",
            "Enter first name: nida\n",
            "Enter last name: khan\n",
            "Enter age: 12\n",
            "Enter degree program: bs bio\n",
            "\n",
            "Displaying student data in reverse order:\n",
            "Student 1: {'firstName': 'nida', 'lastName': 'khan', 'age': 12, 'degreeProgram': 'bs bio'}\n",
            "Student 2: {'firstName': 'dua', 'lastName': 'bibi', 'age': 19, 'degreeProgram': 'bds'}\n",
            "Student 3: {'firstName': 'ayesha', 'lastName': 'khan', 'age': 32, 'degreeProgram': 'mbbs'}\n",
            "Student 4: {'firstName': 'amara', 'lastName': 'ayesha', 'age': 32, 'degreeProgram': 'dpt'}\n",
            "Student 5: {'firstName': 'aliena', 'lastName': 'khan', 'age': 32, 'degreeProgram': 'bscs'}\n",
            "Student 6: {'firstName': 'heer', 'lastName': 'baloch', 'age': 54, 'degreeProgram': 'bsse'}\n",
            "Student 7: {'firstName': 'ayoub', 'lastName': 'khan', 'age': 21, 'degreeProgram': 'bs cs'}\n",
            "Student 8: {'firstName': 'kashif', 'lastName': 'ali', 'age': 32, 'degreeProgram': 'bs cys'}\n",
            "Student 9: {'firstName': 'ali', 'lastName': 'khan', 'age': 23, 'degreeProgram': 'bs cs'}\n",
            "Student 10: {'firstName': 'talha', 'lastName': 'ramzan', 'age': 21, 'degreeProgram': 'bs ai'}\n"
          ]
        }
      ]
    },
    {
      "cell_type": "markdown",
      "source": [
        "Task 7:\n",
        "Write a program that check a list contains a palindrome of elements (use copy() method)\n",
        "Example\n",
        "[1,2,3,2,1]\n",
        "[1, “abc”, “abc”, 1] **bold text**"
      ],
      "metadata": {
        "id": "chMGQFh9kPdH"
      }
    },
    {
      "cell_type": "code",
      "source": [
        "\n",
        "def is_palindrome(lst):\n",
        "\n",
        "    copied_lst = lst.copy()\n",
        "    copied_lst.reverse()\n",
        "\n",
        "    if lst == copied_lst:\n",
        "        return True\n",
        "    else:\n",
        "        return False\n",
        "\n",
        "list1 = [1, 2, 3, 2, 1]\n",
        "list2 = [1, \"abc\", \"abc\", 1]\n",
        "\n",
        "print(f\"Is list1 a palindrome? {is_palindrome(list1)}\")\n",
        "print(f\"Is list2 a palindrome? {is_palindrome(list2)}\")\n"
      ],
      "metadata": {
        "colab": {
          "base_uri": "https://localhost:8080/"
        },
        "id": "J4imgUUzkrlk",
        "outputId": "300ccb70-dac8-4685-ede9-5f8af2a74cb4"
      },
      "execution_count": 6,
      "outputs": [
        {
          "output_type": "stream",
          "name": "stdout",
          "text": [
            "Is list1 a palindrome? True\n",
            "Is list2 a palindrome? True\n"
          ]
        }
      ]
    },
    {
      "cell_type": "markdown",
      "source": [
        "Task 8:\n",
        "Write a program that takes the marks of 3 subjects from the user and store them in a dictionary. Start\n",
        "with an empty dictionary and add one by one. Use subject name as key and marks as value."
      ],
      "metadata": {
        "id": "BR2fnwCsk9ed"
      }
    },
    {
      "cell_type": "code",
      "source": [
        "\n",
        "marks_dict = {}\n",
        "\n",
        "for i in range(3):\n",
        "    subject = input(f\"Enter the name of subject {i+1}: \")\n",
        "    marks = float(input(f\"Enter the marks for {subject}: \"))\n",
        "\n",
        "    marks_dict[subject] = marks\n",
        "print(\"\\nSubject Marks:\")\n",
        "for subject, marks in marks_dict.items():\n",
        "    print(f\"{subject}: {marks}\")\n"
      ],
      "metadata": {
        "colab": {
          "base_uri": "https://localhost:8080/"
        },
        "id": "-ini7KNpk_9S",
        "outputId": "8165d74a-6624-4b60-b2e3-5ee76d9c63b5"
      },
      "execution_count": 7,
      "outputs": [
        {
          "output_type": "stream",
          "name": "stdout",
          "text": [
            "Enter the name of subject 1: english\n",
            "Enter the marks for english: 32\n",
            "Enter the name of subject 2: urdu\n",
            "Enter the marks for urdu: 87\n",
            "Enter the name of subject 3: ai\n",
            "Enter the marks for ai: 87\n",
            "\n",
            "Subject Marks:\n",
            "english: 32.0\n",
            "urdu: 87.0\n",
            "ai: 87.0\n"
          ]
        }
      ]
    },
    {
      "cell_type": "markdown",
      "source": [
        "Task 9:\n",
        "You are given the following dataset of employees:\n",
        "employees = {\n",
        "101: (&quot;Alice&quot;, &quot;AI Engineer&quot;, [&quot;Python&quot;, &quot;ML&quot;, &quot;DL&quot;]),\n",
        "102: (&quot;Bob&quot;, &quot;Data Scientist&quot;, [&quot;R&quot;, &quot;Python&quot;, &quot;SQL&quot;]),\n",
        "103: (&quot;Charlie&quot;, &quot;Web Developer&quot;, [&quot;HTML&quot;, &quot;CSS&quot;, &quot;JS&quot;])\n",
        "}\n",
        "Perform the following tasks:\n",
        " Add a new employee 104 = (&quot;David&quot;, &quot;Cloud Engineer&quot;, [&quot;AWS&quot;, &quot;Docker&quot;, &quot;Python&quot;]).\n",
        " Update Charlie’s role to “Full-Stack Developer” without changing his skills."
      ],
      "metadata": {
        "id": "s4VQft8JlhcN"
      }
    },
    {
      "cell_type": "code",
      "source": [
        "\n",
        "employees = {\n",
        "    101: (\"Alice\", \"AI Engineer\", [\"Python\", \"ML\", \"DL\"]),\n",
        "    102: (\"Bob\", \"Data Scientist\", [\"R\", \"Python\", \"SQL\"]),\n",
        "    103: (\"Charlie\", \"Web Developer\", [\"HTML\", \"CSS\", \"JS\"])\n",
        "}\n",
        "employees[104] = (\"David\", \"Cloud Engineer\", [\"AWS\", \"Docker\", \"Python\"])\n",
        "\n",
        "employees[103] = (\"Charlie\", \"Full-Stack Developer\", employees[103][2])\n",
        "print(\"Updated Employees Dataset:\")\n",
        "for emp_id, (name, role, skills) in employees.items():\n",
        "    print(f\"ID: {emp_id}, Name: {name}, Role: {role}, Skills: {', '.join(skills)}\")\n"
      ],
      "metadata": {
        "colab": {
          "base_uri": "https://localhost:8080/"
        },
        "id": "CEj21ZY8lrUn",
        "outputId": "65b1f074-ce87-4865-9384-933c5b36ef4d"
      },
      "execution_count": 9,
      "outputs": [
        {
          "output_type": "stream",
          "name": "stdout",
          "text": [
            "Updated Employees Dataset:\n",
            "ID: 101, Name: Alice, Role: AI Engineer, Skills: Python, ML, DL\n",
            "ID: 102, Name: Bob, Role: Data Scientist, Skills: R, Python, SQL\n",
            "ID: 103, Name: Charlie, Role: Full-Stack Developer, Skills: HTML, CSS, JS\n",
            "ID: 104, Name: David, Role: Cloud Engineer, Skills: AWS, Docker, Python\n"
          ]
        }
      ]
    },
    {
      "cell_type": "markdown",
      "source": [
        "Task 10:\n",
        "You are given the following tuple:\n",
        "data = (10, 20, 30, 40, 50, 60, 70, 80)\n",
        "\n",
        "Perform the following operations without using loops, functions, or methods:\n",
        " Extract the first three elements and the last three elements, then combine them into a new\n",
        "tuple.\n",
        "Expected: (10, 20, 30, 60, 70, 80)\n",
        " Reverse the tuple using slicing.\n",
        "Expected: (80, 70, 60, 50, 40, 30, 20, 10)\n",
        " Create a tuple with only the even-indexed elements.\n",
        "Expected: (10, 30, 50, 70)\n",
        " Create a tuple with only the odd-indexed elements.\n",
        "Expected: (20, 40, 60, 80)\n",
        " Swap the first half with the second half of the tuple.\n",
        "Expected: (50, 60, 70, 80, 10, 20, 30, 40)"
      ],
      "metadata": {
        "id": "50ezKK05mYvj"
      }
    },
    {
      "cell_type": "code",
      "source": [
        "data = (10, 20, 30, 40, 50, 60, 70, 80)\n",
        "result_1 = data[:3] + data[-3:]\n",
        "print(\"Extracted and Combined Tuple:\", result_1)\n",
        "\n",
        "result_2 = data[::-1]\n",
        "print(\"Reversed Tuple:\", result_2)\n",
        "\n",
        "\n",
        "result_3 = data[::2]\n",
        "print(\"Even-indexed Tuple:\", result_3)\n",
        "\n",
        "result_4 = data[1::2]\n",
        "print(\"Odd-indexed Tuple:\", result_4)\n",
        "\n",
        "half_length = len(data) // 2\n",
        "result_5 = data[half_length:] + data[:half_length]\n",
        "print(\"Swapped Tuple:\", result_5)\n"
      ],
      "metadata": {
        "colab": {
          "base_uri": "https://localhost:8080/"
        },
        "id": "biXrEmRsmbiz",
        "outputId": "19c81b9e-3d21-43a3-f7ef-511212b2031d"
      },
      "execution_count": 10,
      "outputs": [
        {
          "output_type": "stream",
          "name": "stdout",
          "text": [
            "Extracted and Combined Tuple: (10, 20, 30, 60, 70, 80)\n",
            "Reversed Tuple: (80, 70, 60, 50, 40, 30, 20, 10)\n",
            "Even-indexed Tuple: (10, 30, 50, 70)\n",
            "Odd-indexed Tuple: (20, 40, 60, 80)\n",
            "Swapped Tuple: (50, 60, 70, 80, 10, 20, 30, 40)\n"
          ]
        }
      ]
    }
  ]
}