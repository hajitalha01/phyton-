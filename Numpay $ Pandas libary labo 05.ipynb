{
  "nbformat": 4,
  "nbformat_minor": 0,
  "metadata": {
    "colab": {
      "provenance": []
    },
    "kernelspec": {
      "name": "python3",
      "display_name": "Python 3"
    },
    "language_info": {
      "name": "python"
    }
  },
  "cells": [
    {
      "cell_type": "markdown",
      "source": [
        "M.Talha Ramzan\n",
        "---\n",
        "2330-0141\n",
        "---\n",
        "BS AI\n",
        "---\n",
        "LAB 05\n",
        "---"
      ],
      "metadata": {
        "id": "QzUi3wXMoGOc"
      }
    },
    {
      "cell_type": "markdown",
      "source": [
        "1. Write NumPy programs for the following:  Sort a given 2D-array along the first axis, last axis, and on flattened array."
      ],
      "metadata": {
        "id": "QuJ5Chhxms1Z"
      }
    },
    {
      "cell_type": "code",
      "execution_count": 1,
      "metadata": {
        "colab": {
          "base_uri": "https://localhost:8080/"
        },
        "id": "jTEvXD_wN7f1",
        "outputId": "604f1e8a-7c76-44ee-adf5-c25cbd840a50"
      },
      "outputs": [
        {
          "output_type": "stream",
          "name": "stdout",
          "text": [
            "Original Array:\n",
            " [[10  2  8]\n",
            " [ 7  5  1]\n",
            " [ 9  4  3]]\n",
            "\n",
            "Sort along first axis (axis=0):\n",
            " [[ 7  2  1]\n",
            " [ 9  4  3]\n",
            " [10  5  8]]\n",
            "\n",
            "Sort along last axis (axis=1):\n",
            " [[ 2  8 10]\n",
            " [ 1  5  7]\n",
            " [ 3  4  9]]\n",
            "\n",
            "Sorted Flattened Array:\n",
            " [ 1  2  3  4  5  7  8  9 10]\n"
          ]
        }
      ],
      "source": [
        "import numpy as np\n",
        "arr = np.array([[10, 2, 8],\n",
        "                [7, 5, 1],\n",
        "                [9, 4, 3]])\n",
        "\n",
        "print(\"Original Array:\\n\", arr)\n",
        "print(\"\\nSort along first axis (axis=0):\\n\", np.sort(arr, axis=0))\n",
        "print(\"\\nSort along last axis (axis=1):\\n\", np.sort(arr, axis=1))\n",
        "print(\"\\nSorted Flattened Array:\\n\", np.sort(arr, axis=None))\n"
      ]
    },
    {
      "cell_type": "markdown",
      "source": [
        " Create a 3x3 matrix with values ranging from 2 to 10."
      ],
      "metadata": {
        "id": "friOV2fmnGkR"
      }
    },
    {
      "cell_type": "code",
      "source": [
        "import numpy as np\n",
        "\n",
        "matrix = np.arange(2, 11).reshape(3, 3)\n",
        "print(\"3x3 Matrix (2 to 10):\\n\", matrix)\n"
      ],
      "metadata": {
        "colab": {
          "base_uri": "https://localhost:8080/"
        },
        "id": "rVPjgJ1WnKNJ",
        "outputId": "6a5ac596-d641-4d59-bd51-e255f2c29f2a"
      },
      "execution_count": 2,
      "outputs": [
        {
          "output_type": "stream",
          "name": "stdout",
          "text": [
            "3x3 Matrix (2 to 10):\n",
            " [[ 2  3  4]\n",
            " [ 5  6  7]\n",
            " [ 8  9 10]]\n"
          ]
        }
      ]
    },
    {
      "cell_type": "markdown",
      "source": [
        "3. Convert Centigrade to Fahrenheit"
      ],
      "metadata": {
        "id": "pnlaABQmnQJ1"
      }
    },
    {
      "cell_type": "code",
      "source": [
        "import numpy as np\n",
        "C = np.array([0, 10, 20, 37, 100])\n",
        "F = (C * 9/5) + 32\n",
        "\n",
        "print(\"Centigrade values:\", C)\n",
        "print(\"Fahrenheit values:\", F)\n"
      ],
      "metadata": {
        "colab": {
          "base_uri": "https://localhost:8080/"
        },
        "id": "2UTkobT-nSiM",
        "outputId": "52e96732-210b-425d-a7e1-944902866b00"
      },
      "execution_count": 3,
      "outputs": [
        {
          "output_type": "stream",
          "name": "stdout",
          "text": [
            "Centigrade values: [  0  10  20  37 100]\n",
            "Fahrenheit values: [ 32.   50.   68.   98.6 212. ]\n"
          ]
        }
      ]
    },
    {
      "cell_type": "markdown",
      "source": [
        "4. Calculate the difference between maximum and minimum values of a given array along last axis"
      ],
      "metadata": {
        "id": "ciZvSLSvnaDe"
      }
    },
    {
      "cell_type": "code",
      "source": [
        "import numpy as np\n",
        "\n",
        "arr = np.array([[10, 5, 8],\n",
        "                [3, 7, 1],\n",
        "                [9, 2, 6]])\n",
        "diff = np.ptp(arr, axis=1)\n",
        "\n",
        "print(\"Array:\\n\", arr)\n",
        "print(\"\\nDifference (max - min) along rows:\\n\", diff)\n"
      ],
      "metadata": {
        "colab": {
          "base_uri": "https://localhost:8080/"
        },
        "id": "Xe6TjU9kncgk",
        "outputId": "2bca3e35-1584-4679-fbb9-659e5c953edb"
      },
      "execution_count": 4,
      "outputs": [
        {
          "output_type": "stream",
          "name": "stdout",
          "text": [
            "Array:\n",
            " [[10  5  8]\n",
            " [ 3  7  1]\n",
            " [ 9  2  6]]\n",
            "\n",
            "Difference (max - min) along rows:\n",
            " [5 6 7]\n"
          ]
        }
      ]
    },
    {
      "cell_type": "markdown",
      "source": [
        "2. Create two separate data frame using pandas with the information given in below tables. Perform the following tasks:  Merge both the data frames  Sort w.r.t. employee salary in descending order  Display the employee details with maximum salary\n",
        " Find how much variance exists between salaries of employees  Make a histogram of the above data wrt. Salary having 5 bins."
      ],
      "metadata": {
        "id": "RP0e5waqnpMR"
      }
    },
    {
      "cell_type": "code",
      "source": [
        "import pandas as pd\n",
        "import matplotlib.pyplot as plt\n"
      ],
      "metadata": {
        "id": "BwwGwTL4oEeM"
      },
      "execution_count": 5,
      "outputs": []
    },
    {
      "cell_type": "markdown",
      "source": [
        "Step 2: Create 1st DataFrame (Employee Details)"
      ],
      "metadata": {
        "id": "Tz-knbn-pIWV"
      }
    },
    {
      "cell_type": "code",
      "source": [
        "data1 = {\n",
        "    'Emp_ID': [100, 110, 150, 123, 145, 112],\n",
        "    'Emp_Name': ['Margaret', 'Chris', 'Allen', 'Susan', 'Simpson', 'Davis']\n",
        "}\n",
        "df1 = pd.DataFrame(data1)\n",
        "print(df1)\n"
      ],
      "metadata": {
        "colab": {
          "base_uri": "https://localhost:8080/"
        },
        "id": "A4qI4bA2pI7C",
        "outputId": "57ba574a-6130-4d83-cbe7-b1dff202447d"
      },
      "execution_count": 6,
      "outputs": [
        {
          "output_type": "stream",
          "name": "stdout",
          "text": [
            "   Emp_ID  Emp_Name\n",
            "0     100  Margaret\n",
            "1     110     Chris\n",
            "2     150     Allen\n",
            "3     123     Susan\n",
            "4     145   Simpson\n",
            "5     112     Davis\n"
          ]
        }
      ]
    },
    {
      "cell_type": "markdown",
      "source": [
        "Step 3: Create 2nd DataFrame (Salary Details)"
      ],
      "metadata": {
        "id": "rUBciyKZpLg3"
      }
    },
    {
      "cell_type": "code",
      "source": [
        "data2 = {\n",
        "    'Emp_ID': [100, 110, 150, 123, 145, 112],\n",
        "    'Salary': [43000, 23000, 34000, 41200, 24000, 33300]\n",
        "}\n",
        "df2 = pd.DataFrame(data2)\n",
        "print(df2)\n"
      ],
      "metadata": {
        "colab": {
          "base_uri": "https://localhost:8080/"
        },
        "id": "wbjE15oUpO5X",
        "outputId": "400dc020-8b51-412f-b8a8-b1d758808060"
      },
      "execution_count": 8,
      "outputs": [
        {
          "output_type": "stream",
          "name": "stdout",
          "text": [
            "   Emp_ID  Salary\n",
            "0     100   43000\n",
            "1     110   23000\n",
            "2     150   34000\n",
            "3     123   41200\n",
            "4     145   24000\n",
            "5     112   33300\n"
          ]
        }
      ]
    },
    {
      "cell_type": "markdown",
      "source": [
        "Step 4: Merge Both DataFrames"
      ],
      "metadata": {
        "id": "gmfeSkgEpSAE"
      }
    },
    {
      "cell_type": "code",
      "source": [
        "merged_df = pd.merge(df1, df2, on='Emp_ID')\n",
        "print(merged_df)\n"
      ],
      "metadata": {
        "colab": {
          "base_uri": "https://localhost:8080/"
        },
        "id": "KqUiK3YgpVM6",
        "outputId": "0dd27a2f-4e13-4990-e234-a6feb25aa596"
      },
      "execution_count": 9,
      "outputs": [
        {
          "output_type": "stream",
          "name": "stdout",
          "text": [
            "   Emp_ID  Emp_Name  Salary\n",
            "0     100  Margaret   43000\n",
            "1     110     Chris   23000\n",
            "2     150     Allen   34000\n",
            "3     123     Susan   41200\n",
            "4     145   Simpson   24000\n",
            "5     112     Davis   33300\n"
          ]
        }
      ]
    },
    {
      "cell_type": "markdown",
      "source": [
        "Step 5: Sort by Salary (Descending Order)"
      ],
      "metadata": {
        "id": "HUA9X2xnpXrP"
      }
    },
    {
      "cell_type": "code",
      "source": [
        "sorted_df = merged_df.sort_values(by='Salary', ascending=False)\n",
        "print(sorted_df)\n"
      ],
      "metadata": {
        "colab": {
          "base_uri": "https://localhost:8080/"
        },
        "id": "Uf54uAh7paet",
        "outputId": "9fb74176-6ac1-4014-f35f-a635bb0d6328"
      },
      "execution_count": 10,
      "outputs": [
        {
          "output_type": "stream",
          "name": "stdout",
          "text": [
            "   Emp_ID  Emp_Name  Salary\n",
            "0     100  Margaret   43000\n",
            "3     123     Susan   41200\n",
            "2     150     Allen   34000\n",
            "5     112     Davis   33300\n",
            "4     145   Simpson   24000\n",
            "1     110     Chris   23000\n"
          ]
        }
      ]
    },
    {
      "cell_type": "markdown",
      "source": [
        "Step 6: Display Employee with Maximum Salary"
      ],
      "metadata": {
        "id": "CxaCAm56pdIq"
      }
    },
    {
      "cell_type": "code",
      "source": [
        "max_salary = merged_df[merged_df['Salary'] == merged_df['Salary'].max()]\n",
        "print(max_salary)\n"
      ],
      "metadata": {
        "colab": {
          "base_uri": "https://localhost:8080/"
        },
        "id": "lt6EyliTpf25",
        "outputId": "d80f8a87-da22-4111-8951-9fcb4ff68eee"
      },
      "execution_count": 11,
      "outputs": [
        {
          "output_type": "stream",
          "name": "stdout",
          "text": [
            "   Emp_ID  Emp_Name  Salary\n",
            "0     100  Margaret   43000\n"
          ]
        }
      ]
    },
    {
      "cell_type": "markdown",
      "source": [
        "Step 7: Find Variance in Salaries"
      ],
      "metadata": {
        "id": "vc801BKdph-z"
      }
    },
    {
      "cell_type": "code",
      "source": [
        "variance = merged_df['Salary'].var()\n",
        "print(\"Variance in Salaries:\", variance)\n"
      ],
      "metadata": {
        "colab": {
          "base_uri": "https://localhost:8080/"
        },
        "id": "kfb-SFtfplBY",
        "outputId": "0e185c5a-4940-47fd-8891-f7d0b0031802"
      },
      "execution_count": 12,
      "outputs": [
        {
          "output_type": "stream",
          "name": "stdout",
          "text": [
            "Variance in Salaries: 69857666.66666666\n"
          ]
        }
      ]
    },
    {
      "cell_type": "markdown",
      "source": [
        "Step 8: Create Histogram (Salary Distribution)"
      ],
      "metadata": {
        "id": "7EQbr35GpnXZ"
      }
    },
    {
      "cell_type": "code",
      "source": [
        "plt.hist(merged_df['Salary'], bins=5, color='lightblue', edgecolor='black')\n",
        "plt.title('Employee Salary Distribution')\n",
        "plt.xlabel('Salary')\n",
        "plt.ylabel('Number of Employees')\n",
        "plt.show()\n"
      ],
      "metadata": {
        "colab": {
          "base_uri": "https://localhost:8080/",
          "height": 472
        },
        "id": "-2cA4-dOpqHU",
        "outputId": "d884768c-f9c3-4948-87f0-db0a1b4d57c9"
      },
      "execution_count": 13,
      "outputs": [
        {
          "output_type": "display_data",
          "data": {
            "text/plain": [
              "<Figure size 640x480 with 1 Axes>"
            ],
            "image/png": "[encoded data removed]"
          },
          "metadata": {}
        }
      ]
    }
  ]
}