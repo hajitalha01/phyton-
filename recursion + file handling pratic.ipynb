{
  "cells": [
    {
      "cell_type": "markdown",
      "id": "9d3a7d49-96f7-47ff-afef-c2672d985053",
      "metadata": {
        "id": "9d3a7d49-96f7-47ff-afef-c2672d985053"
      },
      "source": [
        "# Programming for AI Lab\n",
        "# Lab_5"
      ]
    },
    {
      "cell_type": "markdown",
      "id": "5f3af081-a914-469d-bf7e-d8239fb2a63e",
      "metadata": {
        "id": "5f3af081-a914-469d-bf7e-d8239fb2a63e"
      },
      "source": [
        "# Topics:\n",
        "* Recursion\n",
        "* File Handling in Python"
      ]
    },
    {
      "cell_type": "markdown",
      "id": "4fad523e",
      "metadata": {
        "id": "4fad523e"
      },
      "source": [
        "\n",
        "# 🧮 Recursion in Python\n",
        "\n",
        "### 🧠 What is Recursion?\n",
        "Recursion is a programming technique where a function **calls itself** directly or indirectly to solve a problem.  \n",
        "Each recursive call works on a smaller portion of the problem until a **base condition** (stopping point) is reached.\n"
      ]
    },
    {
      "cell_type": "code",
      "execution_count": null,
      "id": "eae27a2a",
      "metadata": {
        "id": "eae27a2a",
        "outputId": "11d1f553-3b36-4198-d72f-a15b22ba2499"
      },
      "outputs": [
        {
          "name": "stdout",
          "output_type": "stream",
          "text": [
            "Hello\n",
            "Hello\n",
            "Hello\n"
          ]
        }
      ],
      "source": [
        "## The function calls itself until n becomes 0, printing 'Hello' three times\n",
        "def greet(n):\n",
        "    if n == 0:\n",
        "        return\n",
        "    print(\"Hello\")\n",
        "    greet(n - 1)\n",
        "\n",
        "greet(3)\n"
      ]
    },
    {
      "cell_type": "code",
      "execution_count": null,
      "id": "ed0f24f1",
      "metadata": {
        "id": "ed0f24f1",
        "outputId": "dd240348-d391-4b49-975b-97feb7404c03"
      },
      "outputs": [
        {
          "name": "stdout",
          "output_type": "stream",
          "text": [
            "120\n"
          ]
        }
      ],
      "source": [
        "## Calculates factorial recursively: 5 × 4 × 3 × 2 × 1 = 120.\n",
        "\n",
        "def factorial(n):\n",
        "    if n == 0 or n == 1:\n",
        "        return 1\n",
        "    return n * factorial(n - 1)\n",
        "\n",
        "print(factorial(5))\n"
      ]
    },
    {
      "cell_type": "code",
      "execution_count": null,
      "id": "655b96e5",
      "metadata": {
        "id": "655b96e5",
        "outputId": "a7eaa436-5305-4830-ad87-7ee6282c2602"
      },
      "outputs": [
        {
          "name": "stdout",
          "output_type": "stream",
          "text": [
            "55\n"
          ]
        }
      ],
      "source": [
        "## Adds numbers recursively until n becomes 0.\n",
        "\n",
        "def sum_n(n):\n",
        "    if n == 0:\n",
        "        return 0\n",
        "    return n + sum_n(n - 1)\n",
        "\n",
        "print(sum_n(10))\n"
      ]
    },
    {
      "cell_type": "code",
      "execution_count": null,
      "id": "dae589ce",
      "metadata": {
        "id": "dae589ce",
        "outputId": "9f9d1a0d-8dbb-40e9-e0b0-27d09e2c5849"
      },
      "outputs": [
        {
          "name": "stdout",
          "output_type": "stream",
          "text": [
            "0 1 1 2 3 5 8 13 21 34 55 89 144 233 377 610 987 1597 2584 4181 6765 10946 17711 28657 46368 75025 121393 196418 317811 514229 832040 1346269 2178309 3524578 5702887 9227465 "
          ]
        }
      ],
      "source": [
        "# Prints the Fibonacci sequence using recursion.\n",
        "\n",
        "def fibonacci(n):\n",
        "    if n <= 1:\n",
        "        return n\n",
        "    return fibonacci(n - 1) + fibonacci(n - 2)\n",
        "\n",
        "for i in range(36):\n",
        "    print(fibonacci(i), end=\" \")\n"
      ]
    },
    {
      "cell_type": "code",
      "execution_count": null,
      "id": "78abb445-e7dc-4b73-954a-7d6c6556b0cc",
      "metadata": {
        "id": "78abb445-e7dc-4b73-954a-7d6c6556b0cc",
        "outputId": "e5da5ac2-88e5-47e9-a93d-4df9091c8f7a"
      },
      "outputs": [
        {
          "name": "stdout",
          "output_type": "stream",
          "text": [
            "-60.73146390914917\n"
          ]
        }
      ],
      "source": [
        "########\n",
        "import time\n",
        "start_time=time.time()\n",
        "\n",
        "fibonacci(41)\n",
        "end_time=time.time()\n",
        "\n",
        "print(start_time-end_time)\n"
      ]
    },
    {
      "cell_type": "code",
      "execution_count": null,
      "id": "01497be3-0e26-47a4-854e-659b807a1e32",
      "metadata": {
        "id": "01497be3-0e26-47a4-854e-659b807a1e32"
      },
      "outputs": [],
      "source": [
        "def fibonacci(n, d):\n",
        "    if n in d:\n",
        "        return d[n]\n",
        "    else:\n",
        "        d[n] = fibonacci(n - 1, d) + fibonacci(n - 2, d)\n",
        "    return d[n]"
      ]
    },
    {
      "cell_type": "code",
      "execution_count": null,
      "id": "1cc16e47-4083-4b2b-adaf-c6a487222bb3",
      "metadata": {
        "id": "1cc16e47-4083-4b2b-adaf-c6a487222bb3",
        "outputId": "6fa2ef0a-546a-453d-b5aa-3f12a3df3975"
      },
      "outputs": [
        {
          "data": {
            "text/plain": [
              "55"
            ]
          },
          "execution_count": 15,
          "metadata": {},
          "output_type": "execute_result"
        }
      ],
      "source": [
        "d= {0: 0, 1: 1}\n",
        "fibonacci(10, d)"
      ]
    },
    {
      "cell_type": "code",
      "execution_count": null,
      "id": "4adb1dc2-bd49-4b83-91d2-6c21e72f3925",
      "metadata": {
        "id": "4adb1dc2-bd49-4b83-91d2-6c21e72f3925",
        "outputId": "a467ef73-f3af-4e29-8406-23e3d1f32bb2"
      },
      "outputs": [
        {
          "name": "stdout",
          "output_type": "stream",
          "text": [
            "-9.083747863769531e-05\n"
          ]
        }
      ],
      "source": [
        "import time\n",
        "start_time=time.time()\n",
        "\n",
        "fibonacci(41, d)\n",
        "end_time=time.time()\n",
        "\n",
        "print(start_time-end_time)"
      ]
    },
    {
      "cell_type": "code",
      "execution_count": null,
      "id": "212816f5",
      "metadata": {
        "colab": {
          "base_uri": "https://localhost:8080/"
        },
        "id": "212816f5",
        "outputId": "f359d1ed-b846-4230-c8db-6f0cab816c6c"
      },
      "outputs": [
        {
          "name": "stdout",
          "output_type": "stream",
          "text": [
            "olleh\n"
          ]
        }
      ],
      "source": [
        "# Reverses a string recursively.\n",
        "def reverse_string(s):\n",
        "    if len(s) == 0:\n",
        "        return \"\"\n",
        "    return s[-1] + reverse_string(s[:-1])\n",
        "\n",
        "print(reverse_string(\"hello\"))\n"
      ]
    },
    {
      "cell_type": "code",
      "execution_count": null,
      "id": "708224c3",
      "metadata": {
        "colab": {
          "base_uri": "https://localhost:8080/"
        },
        "id": "708224c3",
        "outputId": "96b66a1f-1de8-47f9-957d-5f36b1b89fa9"
      },
      "outputs": [
        {
          "name": "stdout",
          "output_type": "stream",
          "text": [
            "5\n"
          ]
        }
      ],
      "source": [
        "# Counts digits by removing one digit each recursive call.\n",
        "\n",
        "def count_digits(n):\n",
        "    if n == 0:\n",
        "        return 0\n",
        "    return 1 + count_digits(n // 10)\n",
        "\n",
        "print(count_digits(12345))\n"
      ]
    },
    {
      "cell_type": "code",
      "execution_count": null,
      "id": "b7924e0b",
      "metadata": {
        "colab": {
          "background_save": true
        },
        "id": "b7924e0b",
        "outputId": "8c71c8e4-3285-4a2f-d382-e7de2d9f49f5"
      },
      "outputs": [
        {
          "name": "stdout",
          "output_type": "stream",
          "text": [
            "32\n"
          ]
        }
      ],
      "source": [
        "# Computes 2⁵ = 32 using recursion.\n",
        "def power(base, exp):\n",
        "    if exp == 0:\n",
        "        return 1\n",
        "    return base * power(base, exp - 1)\n",
        "\n",
        "print(power(2, 5))\n"
      ]
    },
    {
      "cell_type": "code",
      "execution_count": null,
      "id": "4be6b812",
      "metadata": {
        "id": "4be6b812"
      },
      "outputs": [],
      "source": [
        "#  Finds the maximum element recursively.\n",
        "\n",
        "def find_max(lst):\n",
        "    if len(lst) == 1:\n",
        "        return lst[0]\n",
        "    sub_max = find_max(lst[1:])\n",
        "    return lst[0] if lst[0] > sub_max else sub_max\n",
        "\n",
        "print(find_max([3, 8, 2, 10, 4]))\n"
      ]
    },
    {
      "cell_type": "code",
      "execution_count": null,
      "id": "effe6dd8",
      "metadata": {
        "id": "effe6dd8"
      },
      "outputs": [],
      "source": [
        "# Checks if a string is palindrome using recursion.\n",
        "\n",
        "def is_palindrome(s):\n",
        "    if len(s) <= 1:\n",
        "        return True\n",
        "    if s[0] != s[-1]:\n",
        "        return False\n",
        "    return is_palindrome(s[1:-1])\n",
        "\n",
        "print(is_palindrome(\"madam\"))\n"
      ]
    },
    {
      "cell_type": "code",
      "execution_count": null,
      "id": "dd7f1648",
      "metadata": {
        "id": "dd7f1648"
      },
      "outputs": [],
      "source": [
        "#  Performs binary search recursively.\n",
        "\n",
        "def binary_search(arr, target, low, high):\n",
        "    if low > high:\n",
        "        return -1\n",
        "    mid = (low + high) // 2\n",
        "    if arr[mid] == target:\n",
        "        return mid\n",
        "    elif arr[mid] > target:\n",
        "        return binary_search(arr, target, low, mid - 1)\n",
        "    else:\n",
        "        return binary_search(arr, target, mid + 1, high)\n",
        "\n",
        "nums = [2, 4, 6, 8, 10, 12, 14]\n",
        "print(binary_search(nums, 10, 0, len(nums) - 1))\n"
      ]
    },
    {
      "cell_type": "markdown",
      "id": "1396a358-99e2-47c7-96c5-6e980b6fb048",
      "metadata": {
        "id": "1396a358-99e2-47c7-96c5-6e980b6fb048"
      },
      "source": [
        "# File Handling (Read and Write)"
      ]
    },
    {
      "cell_type": "markdown",
      "id": "8e4e3bf4-a056-46e0-aab8-2bcf0ce9cfe6",
      "metadata": {
        "id": "8e4e3bf4-a056-46e0-aab8-2bcf0ce9cfe6"
      },
      "source": [
        "## Opening a File\n",
        "\n",
        "In Python, the open() function is used to open a file for reading, writing, or appending (\"r\", \"w\" or \"a\" respectively). It establishes a connection to the file and prepares it for operations."
      ]
    },
    {
      "cell_type": "code",
      "execution_count": null,
      "id": "e01a8402-45f9-421c-b09e-f1e85f3a4ae0",
      "metadata": {
        "id": "e01a8402-45f9-421c-b09e-f1e85f3a4ae0"
      },
      "outputs": [],
      "source": [
        "file = open('sample.txt', 'r')"
      ]
    },
    {
      "cell_type": "markdown",
      "id": "e12ea9fe-be5b-4217-a162-b35d5203741c",
      "metadata": {
        "id": "e12ea9fe-be5b-4217-a162-b35d5203741c"
      },
      "source": [
        "## Reading from a File\n",
        "\n",
        "Reading files involves extracting content from the file using methods like .read(), .readline(), or iterating over the file line by line."
      ]
    },
    {
      "cell_type": "code",
      "execution_count": null,
      "id": "722d9c7b-9879-4a72-9aec-17654bb989f0",
      "metadata": {
        "id": "722d9c7b-9879-4a72-9aec-17654bb989f0"
      },
      "outputs": [],
      "source": [
        "with open('sample.txt', 'r') as file:\n",
        "    content = file.read()  # Reads the whole file\n",
        "    print(content)"
      ]
    },
    {
      "cell_type": "code",
      "execution_count": null,
      "id": "2e42a586-eeef-4c86-a507-6d3bfd9e3b25",
      "metadata": {
        "id": "2e42a586-eeef-4c86-a507-6d3bfd9e3b25"
      },
      "outputs": [],
      "source": [
        "# Reading from a file\n",
        "with open(\"sample.txt\", \"r\") as f:\n",
        "    content = f.read()\n",
        "    print(\"File content:\\n\", content)"
      ]
    },
    {
      "cell_type": "markdown",
      "id": "33498625-9fba-4e17-9493-cb72c715ed34",
      "metadata": {
        "id": "33498625-9fba-4e17-9493-cb72c715ed34"
      },
      "source": [
        "## Writing to a File\n",
        "\n",
        "Writing to files allows you to save data to a file, overwriting the entire file in the process. If the targeted file does not exist, it will create one."
      ]
    },
    {
      "cell_type": "code",
      "execution_count": null,
      "id": "b4a572ec-45ff-4775-94cb-05734d381765",
      "metadata": {
        "id": "b4a572ec-45ff-4775-94cb-05734d381765"
      },
      "outputs": [],
      "source": [
        "with open('output.txt', 'w') as file:\n",
        "    file.write('This is a new line of text.')"
      ]
    },
    {
      "cell_type": "code",
      "execution_count": null,
      "id": "1ca717c9-b6e0-4427-be75-18f53adc7f88",
      "metadata": {
        "id": "1ca717c9-b6e0-4427-be75-18f53adc7f88"
      },
      "outputs": [],
      "source": [
        "# Writing to a file\n",
        "with open(\"sample.txt\", \"w\") as f:\n",
        "    f.write(\"Hello, this is a test file.\\n\")\n",
        "    f.write(\"Python file handling is easy.\\n\")\n",
        "\n",
        "print(\"File written successfully.\")"
      ]
    },
    {
      "cell_type": "markdown",
      "id": "3645999d-8065-4042-b196-967da8699c4e",
      "metadata": {
        "id": "3645999d-8065-4042-b196-967da8699c4e"
      },
      "source": [
        "## Appending to a File\n",
        "\n",
        "Appending means adding new content to the end of an existing file without modifying or deleting the previous content"
      ]
    },
    {
      "cell_type": "code",
      "execution_count": null,
      "id": "185e1aef-3e8b-4e1e-b607-119bb70ae357",
      "metadata": {
        "id": "185e1aef-3e8b-4e1e-b607-119bb70ae357"
      },
      "outputs": [],
      "source": [
        "# Appending to a file\n",
        "with open(\"sample.txt\", \"a\") as f:\n",
        "    f.write(\"This line is appended.\\n\")\n",
        "\n",
        "# Reading again to verify\n",
        "with open(\"sample.txt\", \"r\") as f:\n",
        "    print(f.read())"
      ]
    },
    {
      "cell_type": "markdown",
      "id": "199bf518-628d-41e6-bb9a-10e19f1ef3c4",
      "metadata": {
        "id": "199bf518-628d-41e6-bb9a-10e19f1ef3c4"
      },
      "source": [
        "## Reading Line by Line\n",
        "\n",
        "In Python, files can be read line by line using a for loop, which is useful for processing large files efficiently."
      ]
    },
    {
      "cell_type": "code",
      "execution_count": null,
      "id": "04b73fa8-5cdf-4aac-92f0-1c87493b17c6",
      "metadata": {
        "id": "04b73fa8-5cdf-4aac-92f0-1c87493b17c6"
      },
      "outputs": [],
      "source": [
        "# Reading file line by line\n",
        "with open(\"sample.txt\", \"r\") as f:\n",
        "    for line in f:\n",
        "        print(line.strip())"
      ]
    },
    {
      "cell_type": "code",
      "execution_count": null,
      "id": "f00d4d48-84fe-4ce6-9bda-1a39d0b21070",
      "metadata": {
        "id": "f00d4d48-84fe-4ce6-9bda-1a39d0b21070"
      },
      "outputs": [],
      "source": []
    },
    {
      "cell_type": "code",
      "execution_count": null,
      "id": "a7f64537-c6e3-4de1-b5d5-f4507c58d9d9",
      "metadata": {
        "id": "a7f64537-c6e3-4de1-b5d5-f4507c58d9d9"
      },
      "outputs": [],
      "source": []
    }
  ],
  "metadata": {
    "colab": {
      "provenance": []
    },
    "kernelspec": {
      "display_name": "Python 3 (ipykernel)",
      "language": "python",
      "name": "python3"
    },
    "language_info": {
      "codemirror_mode": {
        "name": "ipython",
        "version": 3
      },
      "file_extension": ".py",
      "mimetype": "text/x-python",
      "name": "python",
      "nbconvert_exporter": "python",
      "pygments_lexer": "ipython3",
      "version": "3.13.7"
    }
  },
  "nbformat": 4,
  "nbformat_minor": 5
}