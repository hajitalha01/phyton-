{
  "nbformat": 4,
  "nbformat_minor": 0,
  "metadata": {
    "colab": {
      "provenance": []
    },
    "kernelspec": {
      "name": "python3",
      "display_name": "Python 3"
    },
    "language_info": {
      "name": "python"
    }
  },
  "cells": [
    {
      "cell_type": "markdown",
      "source": [
        "M.Talha Ramzan\n",
        "\n",
        "---\n",
        "\n",
        "2330-0141\n",
        "---\n",
        "BS AI\n",
        "---\n",
        "AI Lab 02"
      ],
      "metadata": {
        "id": "Al0ZEsVcW6UI"
      }
    },
    {
      "cell_type": "code",
      "execution_count": null,
      "metadata": {
        "colab": {
          "base_uri": "https://localhost:8080/"
        },
        "id": "edUzd6SGFM3x",
        "outputId": "3b30d2c4-bcf1-4cdb-c7da-06cd2ee0ae7b"
      },
      "outputs": [
        {
          "output_type": "stream",
          "name": "stdout",
          "text": [
            "('balck', 'blue', 'white')\n",
            "<class 'tuple'>\n"
          ]
        }
      ],
      "source": [
        "color =(\"balck\", \"blue\", \"white\")\n",
        "print(color)\n",
        "print(type(color))"
      ]
    },
    {
      "cell_type": "code",
      "source": [
        "if \"yellow\" in color:\n",
        "  print(\"yellow color is in tuple\")\n",
        "else:\n",
        " print(\"yellow color is not in tuple\")"
      ],
      "metadata": {
        "colab": {
          "base_uri": "https://localhost:8080/"
        },
        "id": "JEUH9c1aKyVj",
        "outputId": "3326c23d-fca6-4530-c10e-35b496e6bd9b"
      },
      "execution_count": null,
      "outputs": [
        {
          "output_type": "stream",
          "name": "stdout",
          "text": [
            "yellow color is not in tuple\n"
          ]
        }
      ]
    },
    {
      "cell_type": "code",
      "source": [
        "color_list =list(color)\n",
        "color_list[0]=\"pink\"\n",
        "color_list.append (\"perple\")\n",
        "color = tuple(color_list)\n",
        "print(color)\n",
        "\n"
      ],
      "metadata": {
        "colab": {
          "base_uri": "https://localhost:8080/"
        },
        "id": "yLbYAtU6LX65",
        "outputId": "6da8fb47-5176-41da-c72e-a8034d2eb638"
      },
      "execution_count": null,
      "outputs": [
        {
          "output_type": "stream",
          "name": "stdout",
          "text": [
            "('pink', 'blue', 'white', 'perple')\n"
          ]
        }
      ]
    },
    {
      "cell_type": "code",
      "source": [
        "(color1,color2,color3,color4)= color\n",
        "print(\"color4 =\",color4)\n",
        "(color1, *colors) = color\n",
        "print(\"color1 \",color1)\n",
        "print(\"colors \",color)\n",
        "(color1, *colors, color4) = color\n",
        "print(color1)\n",
        "print(colors)\n",
        "\n"
      ],
      "metadata": {
        "colab": {
          "base_uri": "https://localhost:8080/"
        },
        "id": "LDx7RHyQMXb6",
        "outputId": "7299b087-d3a4-4d31-a8ae-b08e9cf0f6fa"
      },
      "execution_count": null,
      "outputs": [
        {
          "output_type": "stream",
          "name": "stdout",
          "text": [
            "color4 = perple\n",
            "color1  pink\n",
            "colors  ('pink', 'blue', 'white', 'perple')\n",
            "pink\n",
            "['blue', 'white']\n"
          ]
        }
      ]
    },
    {
      "cell_type": "code",
      "source": [
        "for i in range(len(color)):\n",
        "    print(color[i])"
      ],
      "metadata": {
        "colab": {
          "base_uri": "https://localhost:8080/"
        },
        "id": "AbZMtjxAODZI",
        "outputId": "73540068-4ac6-454f-8f07-3c9091d0740e"
      },
      "execution_count": null,
      "outputs": [
        {
          "output_type": "stream",
          "name": "stdout",
          "text": [
            "pink\n",
            "blue\n",
            "white\n",
            "perple\n"
          ]
        }
      ]
    },
    {
      "cell_type": "code",
      "source": [
        "for value in color:\n",
        "  print(value)"
      ],
      "metadata": {
        "colab": {
          "base_uri": "https://localhost:8080/"
        },
        "id": "2a-Xj4ycOW7R",
        "outputId": "939f41d9-f4ad-4e7b-ece0-bed3720aef6b"
      },
      "execution_count": null,
      "outputs": [
        {
          "output_type": "stream",
          "name": "stdout",
          "text": [
            "pink\n",
            "blue\n",
            "white\n",
            "perple\n"
          ]
        }
      ]
    },
    {
      "cell_type": "code",
      "source": [
        "i = 0\n",
        "while i in range(len(color)):\n",
        "  print(color[i])\n",
        "  i = i+1"
      ],
      "metadata": {
        "colab": {
          "base_uri": "https://localhost:8080/"
        },
        "id": "t_KkFAz5OcPV",
        "outputId": "6fe69b19-acef-423f-8cd6-fc51ca105dc7"
      },
      "execution_count": null,
      "outputs": [
        {
          "output_type": "stream",
          "name": "stdout",
          "text": [
            "pink\n",
            "blue\n",
            "white\n",
            "perple\n"
          ]
        }
      ]
    },
    {
      "cell_type": "code",
      "source": [
        "color_new = (\"purple\",\"orange\")\n",
        "color_join = color + color_new\n",
        "print(color_join)"
      ],
      "metadata": {
        "colab": {
          "base_uri": "https://localhost:8080/"
        },
        "id": "bdl3BDvcPAJM",
        "outputId": "0dfa93fb-d5bf-462a-b611-d2d609e45115"
      },
      "execution_count": null,
      "outputs": [
        {
          "output_type": "stream",
          "name": "stdout",
          "text": [
            "('pink', 'blue', 'white', 'perple', 'purple', 'orange')\n"
          ]
        }
      ]
    },
    {
      "cell_type": "code",
      "source": [
        "color_multiply = color * 2\n",
        "print(color_multiply)"
      ],
      "metadata": {
        "colab": {
          "base_uri": "https://localhost:8080/"
        },
        "id": "zJlOyz8lPSDB",
        "outputId": "595a7e43-2bd6-41ec-b83c-f78858351580"
      },
      "execution_count": null,
      "outputs": [
        {
          "output_type": "stream",
          "name": "stdout",
          "text": [
            "('pink', 'blue', 'white', 'perple', 'pink', 'blue', 'white', 'perple')\n"
          ]
        }
      ]
    },
    {
      "cell_type": "code",
      "source": [
        "print(color*3)"
      ],
      "metadata": {
        "colab": {
          "base_uri": "https://localhost:8080/"
        },
        "id": "6VjCqLjNRsM8",
        "outputId": "57ac989f-2cd9-40d4-e1a1-3a5a3b242859"
      },
      "execution_count": null,
      "outputs": [
        {
          "output_type": "stream",
          "name": "stdout",
          "text": [
            "('pink', 'blue', 'white', 'perple', 'pink', 'blue', 'white', 'perple', 'pink', 'blue', 'white', 'perple')\n"
          ]
        }
      ]
    },
    {
      "cell_type": "markdown",
      "source": [
        "**phyton Sets**"
      ],
      "metadata": {
        "id": "Vrkag-O9XHcV"
      }
    },
    {
      "cell_type": "code",
      "source": [
        "thisset = {\"apple\", \"banana\", \"cheery\"}\n",
        "print(thisset)\n",
        "#acess item\n",
        "for x in thisset:\n",
        "  print(x)\n",
        "  print(\"banana\" in thisset)"
      ],
      "metadata": {
        "colab": {
          "base_uri": "https://localhost:8080/"
        },
        "id": "RHowYJdYXEU9",
        "outputId": "c0c66653-8963-4e68-a07a-4e2baf9cbfe8"
      },
      "execution_count": null,
      "outputs": [
        {
          "output_type": "stream",
          "name": "stdout",
          "text": [
            "{'apple', 'banana', 'cheery'}\n",
            "apple\n",
            "True\n",
            "banana\n",
            "True\n",
            "cheery\n",
            "True\n"
          ]
        }
      ]
    },
    {
      "cell_type": "code",
      "source": [
        "thisset.add(\"orange\")\n",
        "print(thisset)"
      ],
      "metadata": {
        "colab": {
          "base_uri": "https://localhost:8080/"
        },
        "id": "Q6qWMTE4ZIdG",
        "outputId": "ca658fce-5df4-4f3f-a0b3-78f0c545c537"
      },
      "execution_count": null,
      "outputs": [
        {
          "output_type": "stream",
          "name": "stdout",
          "text": [
            "{'orange', 'apple', 'banana', 'cheery'}\n"
          ]
        }
      ]
    },
    {
      "cell_type": "code",
      "source": [
        "tropical = {\"pineaple\", \"mango\", \"papaya\"}\n",
        "thisset.update(tropical)\n",
        "print(thisset)"
      ],
      "metadata": {
        "colab": {
          "base_uri": "https://localhost:8080/"
        },
        "id": "MCMLkUWzZzAA",
        "outputId": "b4101086-a816-4b0c-9d5d-6311d8f3a4bb"
      },
      "execution_count": null,
      "outputs": [
        {
          "output_type": "stream",
          "name": "stdout",
          "text": [
            "{'banana', 'pineaple', 'mango', 'cheery', 'apple', 'papaya', 'orange'}\n"
          ]
        }
      ]
    },
    {
      "cell_type": "code",
      "source": [
        "mylist = [\"kiwi\", \"orange\"]\n",
        "thisset.update(mylist)\n",
        "print(thisset)"
      ],
      "metadata": {
        "colab": {
          "base_uri": "https://localhost:8080/"
        },
        "id": "9v_2kWe4aHdQ",
        "outputId": "477b9aab-0856-4091-f4e5-ec1549bc882c"
      },
      "execution_count": null,
      "outputs": [
        {
          "output_type": "stream",
          "name": "stdout",
          "text": [
            "{'banana', 'pineaple', 'mango', 'cheery', 'apple', 'papaya', 'orange', 'kiwi'}\n"
          ]
        }
      ]
    },
    {
      "cell_type": "code",
      "source": [
        "thisset.discard(\"banana\")\n",
        "print(thisset)"
      ],
      "metadata": {
        "colab": {
          "base_uri": "https://localhost:8080/"
        },
        "id": "AATNpebiace8",
        "outputId": "28b9391e-adea-4162-84f8-695b1327686a"
      },
      "execution_count": null,
      "outputs": [
        {
          "output_type": "stream",
          "name": "stdout",
          "text": [
            "{'pineaple', 'mango', 'cheery', 'apple', 'papaya', 'orange', 'kiwi'}\n"
          ]
        }
      ]
    },
    {
      "cell_type": "code",
      "source": [
        "for x in thisset:\n",
        "  print(x)"
      ],
      "metadata": {
        "colab": {
          "base_uri": "https://localhost:8080/"
        },
        "id": "O9UfNbKLat0P",
        "outputId": "55ceb314-f699-4b27-8503-abc514069714"
      },
      "execution_count": null,
      "outputs": [
        {
          "output_type": "stream",
          "name": "stdout",
          "text": [
            "pineaple\n",
            "mango\n",
            "cheery\n",
            "apple\n",
            "papaya\n",
            "orange\n",
            "kiwi\n"
          ]
        }
      ]
    },
    {
      "cell_type": "markdown",
      "source": [
        "**Python Dictionaries**"
      ],
      "metadata": {
        "id": "q-tRIxp9a4b9"
      }
    },
    {
      "cell_type": "code",
      "source": [
        "thisdist = {\n",
        "    \"brand\" : \"ford\",\n",
        "    \"model\" : \"audi\",\n",
        "    \"year\" : \"1989\",\n",
        "    \"year\" : \"2022\"\n",
        "}\n",
        "print(thisdist)\n",
        "print(thisdist[\"brand\"])"
      ],
      "metadata": {
        "colab": {
          "base_uri": "https://localhost:8080/"
        },
        "id": "yy3U7l53a2BW",
        "outputId": "32dc6826-b364-417a-9f50-79f138c7c1e0"
      },
      "execution_count": null,
      "outputs": [
        {
          "output_type": "stream",
          "name": "stdout",
          "text": [
            "{'brand': 'ford', 'model': 'audi', 'year': '2022'}\n",
            "ford\n"
          ]
        }
      ]
    },
    {
      "cell_type": "code",
      "source": [
        "#Acess item\n",
        "x = thisdist[\"model\"]\n",
        "print(x)"
      ],
      "metadata": {
        "colab": {
          "base_uri": "https://localhost:8080/"
        },
        "id": "LDv2eFibbwnG",
        "outputId": "d5bbd05a-0dd3-4ffe-92d4-1b4a14e64d79"
      },
      "execution_count": null,
      "outputs": [
        {
          "output_type": "stream",
          "name": "stdout",
          "text": [
            "audi\n"
          ]
        }
      ]
    },
    {
      "cell_type": "code",
      "source": [
        "#get()model\n",
        "v = thisdist.get(\"model\")\n",
        "print(v)"
      ],
      "metadata": {
        "colab": {
          "base_uri": "https://localhost:8080/"
        },
        "id": "jmJenrFEcHtQ",
        "outputId": "37b2d3e9-cc6a-4ac0-8efa-bfc877d3f679"
      },
      "execution_count": null,
      "outputs": [
        {
          "output_type": "stream",
          "name": "stdout",
          "text": [
            "audi\n"
          ]
        }
      ]
    },
    {
      "cell_type": "code",
      "source": [
        "#get keys\n",
        "c= thisdist.keys()\n",
        "print(c)"
      ],
      "metadata": {
        "colab": {
          "base_uri": "https://localhost:8080/"
        },
        "id": "kaCAGgX5cSFO",
        "outputId": "c085e635-1edb-4b55-aac2-4eaccc73c542"
      },
      "execution_count": null,
      "outputs": [
        {
          "output_type": "stream",
          "name": "stdout",
          "text": [
            "dict_keys(['brand', 'model', 'year'])\n"
          ]
        }
      ]
    },
    {
      "cell_type": "code",
      "source": [
        "#change value\n",
        "thisdist[\"year\"] = 2018\n",
        "print(thisdist)"
      ],
      "metadata": {
        "colab": {
          "base_uri": "https://localhost:8080/"
        },
        "id": "fkEbaJxrcsXb",
        "outputId": "a029d142-f870-465c-bd81-2a3cf030cf2a"
      },
      "execution_count": null,
      "outputs": [
        {
          "output_type": "stream",
          "name": "stdout",
          "text": [
            "{'brand': 'ford', 'model': 'audi', 'year': 2018}\n"
          ]
        }
      ]
    },
    {
      "cell_type": "code",
      "source": [
        "#update dictionry\n",
        "thisdist.update({\"year\":2029})\n",
        "print(thisdist)"
      ],
      "metadata": {
        "colab": {
          "base_uri": "https://localhost:8080/"
        },
        "id": "DazOxQ9Hc2yk",
        "outputId": "db91c601-b2be-45b6-c33b-fa8221477083"
      },
      "execution_count": null,
      "outputs": [
        {
          "output_type": "stream",
          "name": "stdout",
          "text": [
            "{'brand': 'ford', 'model': 'audi', 'year': 2029}\n"
          ]
        }
      ]
    },
    {
      "cell_type": "code",
      "source": [
        "#add dic item\n",
        "thisdist[\"color\"] = \"red\"\n",
        "print(thisdist)"
      ],
      "metadata": {
        "colab": {
          "base_uri": "https://localhost:8080/"
        },
        "id": "-dsePVnrdZzx",
        "outputId": "61188101-dcaa-43f8-9ef6-4d82b2ff6e12"
      },
      "execution_count": null,
      "outputs": [
        {
          "output_type": "stream",
          "name": "stdout",
          "text": [
            "{'brand': 'ford', 'model': 'audi', 'year': 2029, 'color': 'red'}\n"
          ]
        }
      ]
    },
    {
      "cell_type": "markdown",
      "source": [
        "***Python - Remove Dictionary Items***"
      ],
      "metadata": {
        "id": "YByjvFSydxAd"
      }
    },
    {
      "cell_type": "code",
      "source": [
        "#removing item\n",
        "thisdist.pop(\"model\")\n",
        "print(thisdist)"
      ],
      "metadata": {
        "colab": {
          "base_uri": "https://localhost:8080/"
        },
        "id": "JUOJDV9edpBB",
        "outputId": "3354dc84-3a83-4853-99b7-80df88a63de5"
      },
      "execution_count": null,
      "outputs": [
        {
          "output_type": "stream",
          "name": "stdout",
          "text": [
            "{'brand': 'ford', 'year': 2029, 'color': 'red'}\n"
          ]
        }
      ]
    },
    {
      "cell_type": "code",
      "source": [
        "#del\n",
        "del thisdist[\"year\"]\n",
        "print(thisdist)"
      ],
      "metadata": {
        "colab": {
          "base_uri": "https://localhost:8080/"
        },
        "id": "vBfyQVYhehDA",
        "outputId": "2fd5af09-e7d4-4e29-80cb-7d71996c23b3"
      },
      "execution_count": null,
      "outputs": [
        {
          "output_type": "stream",
          "name": "stdout",
          "text": [
            "{'brand': 'ford', 'color': 'red'}\n"
          ]
        }
      ]
    },
    {
      "cell_type": "code",
      "source": [
        "#clear\n",
        "thisdist.clear()\n",
        "print(thisdist)"
      ],
      "metadata": {
        "colab": {
          "base_uri": "https://localhost:8080/"
        },
        "id": "5NxnL5q3ezwp",
        "outputId": "e293aa9e-f377-4e04-d75a-f379b950a9f3"
      },
      "execution_count": null,
      "outputs": [
        {
          "output_type": "stream",
          "name": "stdout",
          "text": [
            "{}\n"
          ]
        }
      ]
    },
    {
      "cell_type": "markdown",
      "source": [
        "Task # 1:\n",
        "Write a Python script to print a dictionary where the keys are numbers between 1 and 10 (both\n",
        "included) and the values are square of keys. Sample Dictionary: {1: 1, 2: 4, 3: 9, 4: 16, 5: 25, 6: 36, 7: 49, 8: 64, 9: 81, 10: 100 **bold text**"
      ],
      "metadata": {
        "id": "40MYhwqhXDE-"
      }
    },
    {
      "cell_type": "code",
      "source": [
        "saqure_dict = {}\n",
        "\n",
        "for i in range(1, 11):\n",
        "    saqure_dict[i] = i**2\n",
        "\n",
        "print(saqure_dict)\n"
      ],
      "metadata": {
        "colab": {
          "base_uri": "https://localhost:8080/"
        },
        "id": "3AFYqopIXGeJ",
        "outputId": "6acda60a-f089-4fec-c117-0a77cc636899"
      },
      "execution_count": 1,
      "outputs": [
        {
          "output_type": "stream",
          "name": "stdout",
          "text": [
            "{1: 1, 2: 4, 3: 9, 4: 16, 5: 25, 6: 36, 7: 49, 8: 64, 9: 81, 10: 100}\n"
          ]
        }
      ]
    },
    {
      "cell_type": "markdown",
      "source": [
        "Task no 02\n",
        "---\n",
        "Create a simple book inventory system using tuples. Each book in the inventory should be\n",
        "represented as a tuple containing the following information:\n",
        " Title\n",
        " Author\n",
        " Publication Year\n",
        " ISBN (International Standard Book Number)\n",
        " Quantity in Stock\n",
        "1. Define an empty list named book_inventory to store tuples representing books. 2. Implement a function add_book that takes input for a new book and adds it to the\n",
        "book_inventory. The function should prompt the user for the book details (title, author, publication year, ISBN, quantity) and create a tuple to represent the book. Append this\n",
        "tuple to the book_inventory. 3. Implement a function search_book that takes the ISBN as input and searches for the book\n",
        "in the inventory. If the book is found, print its details; otherwise, print a message indicating\n",
        "that the book is not in the inventory. 4. Implement a function display_inventory that prints the details of all books in the inventory. Each book's information should be printed on a new line. 5. Implement a function sell_book that takes the ISBN and quantity as input and updates the\n",
        "stock quantity of the corresponding book in the inventory. If the quantity is greater than the\n",
        "available stock, print a message indicating insufficient stock. 6. Test your inventory system by adding a few books, searching for them, displaying the\n",
        "inventory, and selling books."
      ],
      "metadata": {
        "id": "G9gNm3lPXO8z"
      }
    },
    {
      "cell_type": "code",
      "source": [
        "\n",
        "book_inventory = []\n",
        "\n",
        "title = input(\"Enter book title: \")\n",
        "author = input(\"Enter author: \")\n",
        "publication_year = input(\"Enter publication year: \")\n",
        "isbn = input(\"Enter ISBN: \")\n",
        "quantity = input(\"Enter quantity in stock: \")\n",
        "\n",
        "book = (title, author, publication_year, isbn, quantity)\n",
        "\n",
        "book_inventory.append(book)\n",
        "print(f\"Book '{title}' added to inventory.\")\n",
        "title = input(\"Enter another book title: \")\n",
        "author = input(\"Enter author: \")\n",
        "publication_year = input(\"Enter publication year: \")\n",
        "isbn = input(\"Enter ISBN: \")\n",
        "quantity = input(\"Enter quantity in stock: \")\n",
        "\n",
        "book = (title, author, publication_year, isbn, quantity)\n",
        "\n",
        "book_inventory.append(book)\n",
        "print(f\"Book '{title}' added to inventory.\")\n",
        "\n",
        "isbn_to_search = input(\"Enter ISBN to search for a book: \")\n",
        "\n",
        "found = False\n",
        "for book in book_inventory:\n",
        "    if book[3] == isbn_to_search:\n",
        "        found = True\n",
        "        print(\"Book found:\")\n",
        "        print(f\"Title: {book[0]}, Author: {book[1]}, Year: {book[2]}, ISBN: {book[3]}, Quantity: {book[4]}\")\n",
        "        break\n",
        "\n",
        "if not found:\n",
        "    print(\"Book not found in the inventory.\")\n",
        "\n",
        "print(\"\\nDisplaying all books in the inventory:\")\n",
        "for book in book_inventory:\n",
        "    print(f\"Title: {book[0]}, Author: {book[1]}, Year: {book[2]}, ISBN: {book[3]}, Quantity: {book[4]}\")\n",
        "\n",
        "isbn_to_sell = input(\"Enter ISBN of book to sell: \")\n",
        "quantity_to_sell = int(input(\"Enter quantity to sell: \"))\n",
        "\n",
        "sold = False\n",
        "for i in range(len(book_inventory)):\n",
        "    if book_inventory[i][3] == isbn_to_sell:\n",
        "        current_quantity = int(book_inventory[i][4])\n",
        "        if current_quantity >= quantity_to_sell:\n",
        "            new_quantity = current_quantity - quantity_to_sell\n",
        "            book_inventory[i] = (book_inventory[i][0], book_inventory[i][1], book_inventory[i][2], book_inventory[i][3], str(new_quantity))\n",
        "            print(f\"Sold {quantity_to_sell} copy(s) of '{book_inventory[i][0]}'.\")\n",
        "            sold = True\n",
        "            break\n",
        "        else:\n",
        "            print(f\"Not enough stock for '{book_inventory[i][0]}'. Only {current_quantity} copies available.\")\n",
        "            sold = True\n",
        "            break\n",
        "\n",
        "if not sold:\n",
        "    print(\"Book not found in the inventory.\")\n",
        "\n",
        "print(\"\\nUpdated Inventory:\")\n",
        "for book in book_inventory:\n",
        "    print(f\"Title: {book[0]}, Author: {book[1]}, Year: {book[2]}, ISBN: {book[3]}, Quantity: {book[4]}\")\n"
      ],
      "metadata": {
        "colab": {
          "base_uri": "https://localhost:8080/"
        },
        "id": "lhaICmrBXQFn",
        "outputId": "d634f4fe-015d-4bcc-ec90-7bca5a4d6d14"
      },
      "execution_count": 2,
      "outputs": [
        {
          "output_type": "stream",
          "name": "stdout",
          "text": [
            "Enter book title: python\n",
            "Enter author: talha\n",
            "Enter publication year: 2024\n",
            "Enter ISBN: 12\n",
            "Enter quantity in stock: 13\n",
            "Book 'python' added to inventory.\n",
            "Enter another book title: ai\n",
            "Enter author: ali\n",
            "Enter publication year: 2012\n",
            "Enter ISBN: 13\n",
            "Enter quantity in stock: 14\n",
            "Book 'ai' added to inventory.\n",
            "Enter ISBN to search for a book: 12\n",
            "Book found:\n",
            "Title: python, Author: talha, Year: 2024, ISBN: 12, Quantity: 13\n",
            "\n",
            "Displaying all books in the inventory:\n",
            "Title: python, Author: talha, Year: 2024, ISBN: 12, Quantity: 13\n",
            "Title: ai, Author: ali, Year: 2012, ISBN: 13, Quantity: 14\n",
            "Enter ISBN of book to sell: 13\n",
            "Enter quantity to sell: 12\n",
            "Sold 12 copy(s) of 'ai'.\n",
            "\n",
            "Updated Inventory:\n",
            "Title: python, Author: talha, Year: 2024, ISBN: 12, Quantity: 13\n",
            "Title: ai, Author: ali, Year: 2012, ISBN: 13, Quantity: 2\n"
          ]
        }
      ]
    },
    {
      "cell_type": "markdown",
      "source": [
        "Task # 3:]"
      ],
      "metadata": {
        "id": "fHVHpW-NXfAm"
      }
    },
    {
      "cell_type": "code",
      "source": [
        "taldict={\n",
        "    '5': (3,7),\n",
        "    '3': (2,4),\n",
        "    '7': (8),\n",
        "    '2': (),\n",
        "    '4': (8),\n",
        "    '8': ()\n",
        "}\n",
        "print(taldict)\n",
        "print(taldict['5'])"
      ],
      "metadata": {
        "colab": {
          "base_uri": "https://localhost:8080/"
        },
        "id": "ao7sG7cgXjUf",
        "outputId": "e6e40984-ecbb-4e53-8404-4256df5bb0da"
      },
      "execution_count": 3,
      "outputs": [
        {
          "output_type": "stream",
          "name": "stdout",
          "text": [
            "{'5': (3, 7), '3': (2, 4), '7': 8, '2': (), '4': 8, '8': ()}\n",
            "(3, 7)\n"
          ]
        }
      ]
    },
    {
      "cell_type": "markdown",
      "source": [
        "Task # 4\n",
        "\n",
        "> Add blockquote\n",
        "\n"
      ],
      "metadata": {
        "id": "dQuP3iV4XnaG"
      }
    },
    {
      "cell_type": "code",
      "source": [
        "talhadict={\n",
        "    'A':[('B',6),('E',1),('C',9)],\n",
        "    'B':[('A',6),('E',4),('D',3)],\n",
        "    'C':[('A',9),('F',2),('G',3)],\n",
        "    'D':[('B',3),('E',5),('F',7)],\n",
        "    'E':[('A',1),('B',4),('D',5),('f',6)],\n",
        "    'F':[('C',2),('E',6),('D',7)],\n",
        "    'G':[]\n",
        "}\n",
        "print(talhadict)\n"
      ],
      "metadata": {
        "colab": {
          "base_uri": "https://localhost:8080/"
        },
        "id": "lNXUoJcMXmKX",
        "outputId": "2f802c02-7b64-4295-f093-0cc5adb39fa4"
      },
      "execution_count": 4,
      "outputs": [
        {
          "output_type": "stream",
          "name": "stdout",
          "text": [
            "{'A': [('B', 6), ('E', 1), ('C', 9)], 'B': [('A', 6), ('E', 4), ('D', 3)], 'C': [('A', 9), ('F', 2), ('G', 3)], 'D': [('B', 3), ('E', 5), ('F', 7)], 'E': [('A', 1), ('B', 4), ('D', 5), ('f', 6)], 'F': [('C', 2), ('E', 6), ('D', 7)], 'G': []}\n"
          ]
        }
      ]
    }
  ]
}