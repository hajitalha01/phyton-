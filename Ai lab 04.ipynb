{
  "nbformat": 4,
  "nbformat_minor": 0,
  "metadata": {
    "colab": {
      "provenance": []
    },
    "kernelspec": {
      "name": "python3",
      "display_name": "Python 3"
    },
    "language_info": {
      "name": "python"
    }
  },
  "cells": [
    {
      "cell_type": "markdown",
      "source": [
        "M.Talha Ramzan\n",
        "---\n",
        "2330-0141\n",
        "---\n",
        "BS AI"
      ],
      "metadata": {
        "id": "5RaSysBy7mCU"
      }
    },
    {
      "cell_type": "markdown",
      "source": [
        "Lab Tasks:\n",
        "1. In the graph given above, change the route of your nodes from A to H and calculate path using\n",
        "the A* search."
      ],
      "metadata": {
        "id": "laNC5Gw27t_q"
      }
    },
    {
      "cell_type": "code",
      "source": [
        "\n",
        "def heuristic(n):\n",
        "    H_dist = {\n",
        "        'A': 11,\n",
        "        'B': 6,\n",
        "        'C': 5,\n",
        "        'D': 7,\n",
        "        'E': 3,\n",
        "        'F': 6,\n",
        "        'G': 5,\n",
        "        'H': 3,\n",
        "        'I': 1,\n",
        "        'J': 0\n",
        "    }\n",
        "    return H_dist[n]\n",
        "\n",
        "Graph_nodes = {\n",
        "    'A': [('B', 6), ('F', 3)],\n",
        "    'B': [('A', 6), ('C', 3), ('D', 2)],\n",
        "    'C': [('B', 3), ('D', 1), ('E', 5)],\n",
        "    'D': [('B', 2), ('C', 1), ('E', 8)],\n",
        "    'E': [('C', 5), ('D', 8), ('I', 5), ('J', 5)],\n",
        "    'F': [('A', 3), ('G', 1), ('H', 7)],\n",
        "    'G': [('F', 1), ('I', 3)],\n",
        "    'H': [('F', 7), ('I', 2)],\n",
        "    'I': [('E', 5), ('G', 3), ('H', 2), ('J', 3)],\n",
        "    'J': [('E', 5), ('I', 3)]\n",
        "}\n"
      ],
      "metadata": {
        "id": "n5f4omTq9Ut4"
      },
      "execution_count": 8,
      "outputs": []
    },
    {
      "cell_type": "code",
      "source": [
        "\n",
        "def aStarAlgo(start_node, stop_node):\n",
        "    open_set = set([start_node])\n",
        "    closed_set = set()\n",
        "    g = {}\n",
        "    parents = {}\n",
        "\n",
        "    g[start_node] = 0\n",
        "    parents[start_node] = start_node\n",
        "\n",
        "    while len(open_set) > 0:\n",
        "        n = None\n",
        "\n",
        "\n",
        "        for v in open_set:\n",
        "            if n == None or g[v] + heuristic(v) < g[n] + heuristic(n):\n",
        "                n = v\n",
        "\n",
        "        if n == None:\n",
        "            print(\"Path does not exist!\")\n",
        "            return None\n",
        "\n",
        "\n",
        "        if n == stop_node:\n",
        "            path = []\n",
        "            while parents[n] != n:\n",
        "                path.append(n)\n",
        "                n = parents[n]\n",
        "            path.append(start_node)\n",
        "            path.reverse()\n",
        "            print(\"Path found:\", path)\n",
        "            print(\"Total cost:\", g[stop_node])\n",
        "            return path\n",
        "\n",
        "\n",
        "        for (m, weight) in Graph_nodes.get(n, []):\n",
        "            if m not in open_set and m not in closed_set:\n",
        "                open_set.add(m)\n",
        "                parents[m] = n\n",
        "                g[m] = g[n] + weight\n",
        "            else:\n",
        "                if g[m] > g[n] + weight:\n",
        "                    g[m] = g[n] + weight\n",
        "                    parents[m] = n\n",
        "                    if m in closed_set:\n",
        "                        closed_set.remove(m)\n",
        "                        open_set.add(m)\n",
        "\n",
        "        open_set.remove(n)\n",
        "        closed_set.add(n)\n",
        "\n",
        "    print(\"Path does not exist!\")\n",
        "    return None\n"
      ],
      "metadata": {
        "id": "S1QN_Zis-MH2"
      },
      "execution_count": 9,
      "outputs": []
    },
    {
      "cell_type": "code",
      "source": [
        "aStarAlgo('A', 'H')\n"
      ],
      "metadata": {
        "colab": {
          "base_uri": "https://localhost:8080/"
        },
        "id": "HJFUignk-UDm",
        "outputId": "a26119f9-a41d-4fde-a9ed-415c043635ae"
      },
      "execution_count": 10,
      "outputs": [
        {
          "output_type": "stream",
          "name": "stdout",
          "text": [
            "Path found: ['A', 'F', 'G', 'I', 'H']\n",
            "Total cost: 9\n"
          ]
        },
        {
          "output_type": "execute_result",
          "data": {
            "text/plain": [
              "['A', 'F', 'G', 'I', 'H']"
            ]
          },
          "metadata": {},
          "execution_count": 10
        }
      ]
    },
    {
      "cell_type": "markdown",
      "source": [
        "2. Implement the A* search algorithm to find the path from Arad to Hirosawa, show what\n",
        "improvements are evident when using Heuristics based search as compared to uninformed\n",
        "methods.\n",
        "\n",
        "> Add blockquote\n",
        "\n"
      ],
      "metadata": {
        "id": "_WdwNVnw9L-r"
      }
    },
    {
      "cell_type": "code",
      "execution_count": 2,
      "metadata": {
        "id": "puTsqrut7kAM"
      },
      "outputs": [],
      "source": [
        "from queue import PriorityQueue\n",
        "graph = {\n",
        "    'Arad': {'Zerind': 75, 'Sibiu': 140, 'Timisoara': 118},\n",
        "    'Zerind': {'Arad': 75, 'Oradea': 71},\n",
        "    'Oradea': {'Zerind': 71, 'Sibiu': 151},\n",
        "    'Timisoara': {'Arad': 118, 'Lugoj': 111},\n",
        "    'Lugoj': {'Timisoara': 111, 'Mehadia': 70},\n",
        "    'Mehadia': {'Lugoj': 70, 'Dobreta': 75},\n",
        "    'Dobreta': {'Mehadia': 75, 'Craiova': 120},\n",
        "    'Craiova': {'Dobreta': 120, 'Rimnicu Vilcea': 146, 'Pitesti': 138},\n",
        "    'Sibiu': {'Arad': 140, 'Oradea': 151, 'Fagaras': 99, 'Rimnicu Vilcea': 80},\n",
        "    'Rimnicu Vilcea': {'Sibiu': 80, 'Craiova': 146, 'Pitesti': 97},\n",
        "    'Fagaras': {'Sibiu': 99, 'Bucharest': 211},\n",
        "    'Pitesti': {'Rimnicu Vilcea': 97, 'Craiova': 138, 'Bucharest': 101},\n",
        "    'Bucharest': {'Fagaras': 211, 'Pitesti': 101, 'Giurgiu': 90, 'Urziceni': 85},\n",
        "    'Giurgiu': {'Bucharest': 90},\n",
        "    'Urziceni': {'Bucharest': 85, 'Vaslui': 142, 'Hirsova': 98},\n",
        "    'Hirsova': {'Urziceni': 98, 'Eforie': 86},\n",
        "    'Eforie': {'Hirsova': 86},\n",
        "    'Vaslui': {'Iasi': 92, 'Urziceni': 142},\n",
        "    'Iasi': {'Vaslui': 92, 'Neamt': 87},\n",
        "    'Neamt': {'Iasi': 87}\n",
        "}\n",
        "heuristic = {\n",
        "    'Arad': 366, 'Zerind': 374, 'Oradea': 380, 'Timisoara': 329,\n",
        "    'Lugoj': 244, 'Mehadia': 241, 'Dobreta': 242, 'Craiova': 160,\n",
        "    'Sibiu': 253, 'Rimnicu Vilcea': 193, 'Fagaras': 176, 'Pitesti': 100,\n",
        "    'Bucharest': 0, 'Giurgiu': 77, 'Urziceni': 80, 'Hirsova': 0,\n",
        "    'Eforie': 161, 'Vaslui': 199, 'Iasi': 226, 'Neamt': 234\n",
        "}\n"
      ]
    },
    {
      "cell_type": "code",
      "source": [
        "\n",
        "def a_star(graph, start, goal):\n",
        "    open_set = PriorityQueue()\n",
        "    open_set.put((0, start))\n",
        "\n",
        "    came_from = {}\n",
        "    g_score = {node: float('inf') for node in graph}\n",
        "    g_score[start] = 0\n",
        "\n",
        "    f_score = {node: float('inf') for node in graph}\n",
        "    f_score[start] = heuristic[start]\n",
        "\n",
        "    while not open_set.empty():\n",
        "        _, current = open_set.get()\n",
        "\n",
        "        if current == goal:\n",
        "            path = []\n",
        "            while current in came_from:\n",
        "                path.append(current)\n",
        "                current = came_from[current]\n",
        "            path.append(start)\n",
        "            path.reverse()\n",
        "            return path, g_score[goal]\n",
        "\n",
        "        for neighbor, cost in graph[current].items():\n",
        "            temp_g = g_score[current] + cost\n",
        "            if temp_g < g_score[neighbor]:\n",
        "                came_from[neighbor] = current\n",
        "                g_score[neighbor] = temp_g\n",
        "                f_score[neighbor] = temp_g + heuristic[neighbor]\n",
        "                open_set.put((f_score[neighbor], neighbor))\n",
        "\n",
        "    return None, float('inf')\n"
      ],
      "metadata": {
        "id": "b4oR0n6M8dKq"
      },
      "execution_count": 3,
      "outputs": []
    },
    {
      "cell_type": "code",
      "source": [
        "start_city = 'Arad'\n",
        "goal_city = 'Hirsova'\n",
        "\n",
        "path, cost = a_star(graph, start_city, goal_city)\n",
        "\n",
        "print(\"🔹 Shortest Path (A*):\", \" → \".join(path))\n",
        "print(\"🔹 Total Path Cost:\", cost)\n"
      ],
      "metadata": {
        "colab": {
          "base_uri": "https://localhost:8080/"
        },
        "id": "qp1qsVpH8ibl",
        "outputId": "3cf98605-fdd9-4321-84c0-02a7e5c57b49"
      },
      "execution_count": 4,
      "outputs": [
        {
          "output_type": "stream",
          "name": "stdout",
          "text": [
            "🔹 Shortest Path (A*): Arad → Sibiu → Rimnicu Vilcea → Pitesti → Bucharest → Urziceni → Hirsova\n",
            "🔹 Total Path Cost: 601\n"
          ]
        }
      ]
    },
    {
      "cell_type": "code",
      "source": [
        "print(\"\"\"\n",
        "A* Search vs Uninformed Search:\n",
        "\n",
        "• Uninformed methods (like BFS or Dijkstra) explore many nodes blindly until the goal is found.\n",
        "• A* uses both path cost (g) and heuristic estimate (h) to prioritize promising nodes.\n",
        "• Result: A* reaches Hirsova faster, exploring fewer nodes, giving an optimal and efficient route.\n",
        "\n",
        "Advantages of A*:\n",
        " Combines accuracy of Dijkstra with speed of Greedy Search.\n",
        " Reduces total nodes expanded.\n",
        " Finds the optimal (minimum cost) path efficiently.\n",
        "\"\"\")"
      ],
      "metadata": {
        "colab": {
          "base_uri": "https://localhost:8080/"
        },
        "id": "kw9OLtAr8mUH",
        "outputId": "4618e355-9666-4241-a22d-2e840a0bc160"
      },
      "execution_count": 7,
      "outputs": [
        {
          "output_type": "stream",
          "name": "stdout",
          "text": [
            "\n",
            "A* Search vs Uninformed Search:\n",
            "\n",
            "• Uninformed methods (like BFS or Dijkstra) explore many nodes blindly until the goal is found.\n",
            "• A* uses both path cost (g) and heuristic estimate (h) to prioritize promising nodes.\n",
            "• Result: A* reaches Hirsova faster, exploring fewer nodes, giving an optimal and efficient route.\n",
            "\n",
            "Advantages of A*:\n",
            " Combines accuracy of Dijkstra with speed of Greedy Search.\n",
            " Reduces total nodes expanded.\n",
            " Finds the optimal (minimum cost) path efficiently.\n",
            "\n"
          ]
        }
      ]
    }
  ]
}