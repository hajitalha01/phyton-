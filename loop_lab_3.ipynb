{
  "nbformat": 4,
  "nbformat_minor": 0,
  "metadata": {
    "colab": {
      "provenance": []
    },
    "kernelspec": {
      "name": "python3",
      "display_name": "Python 3"
    },
    "language_info": {
      "name": "python"
    }
  },
  "cells": [
    {
      "cell_type": "markdown",
      "source": [
        "M.TALHA RAMZAN\n",
        "---\n",
        "2330-0141\n",
        "---\n",
        "BS AI\n",
        "---\n",
        "LAB TASK 03\n",
        "---"
      ],
      "metadata": {
        "id": "igsc6lkp5mD1"
      }
    },
    {
      "cell_type": "markdown",
      "source": [
        "1. Write a program and check if a number is a multiple of 13 or not."
      ],
      "metadata": {
        "id": "n_1FeUqr57pL"
      }
    },
    {
      "cell_type": "code",
      "execution_count": 4,
      "metadata": {
        "colab": {
          "base_uri": "https://localhost:8080/"
        },
        "id": "80AwydnV5hHQ",
        "outputId": "b24306a6-60ef-40a8-b912-df0bcd0d8317"
      },
      "outputs": [
        {
          "output_type": "stream",
          "name": "stdout",
          "text": [
            "Enter a number: 27\n",
            "27 is not a multiple of 13.\n"
          ]
        }
      ],
      "source": [
        "\n",
        "number = int(input(\"Enter a number: \"))\n",
        "\n",
        "if number % 13 == 0:\n",
        "    print(f\"{number} is a multiple of 13.\")\n",
        "else:\n",
        "    print(f\"{number} is not a multiple of 13.\")\n"
      ]
    },
    {
      "cell_type": "markdown",
      "source": [
        "2. Write a program to find the smallest of 5 numbers enter by the user."
      ],
      "metadata": {
        "id": "1c6sAvJA6DqF"
      }
    },
    {
      "cell_type": "code",
      "source": [
        "\n",
        "numbers = []\n",
        "for i in range(5):\n",
        "    num = float(input(f\"Enter number {i+1}: \"))\n",
        "    numbers.append(num)\n",
        "\n",
        "smallest = min(numbers)\n",
        "\n",
        "print(\"The smallest number is:\", smallest)\n"
      ],
      "metadata": {
        "colab": {
          "base_uri": "https://localhost:8080/"
        },
        "id": "2D7dBe8R6FJ3",
        "outputId": "91fb5445-4bff-4027-802f-f43049b89f41"
      },
      "execution_count": 5,
      "outputs": [
        {
          "output_type": "stream",
          "name": "stdout",
          "text": [
            "Enter number 1: 45\n",
            "Enter number 2: 2\n",
            "Enter number 3: 4\n",
            "Enter number 4: 7655\n",
            "Enter number 5: 35565\n",
            "The smallest number is: 2.0\n"
          ]
        }
      ]
    },
    {
      "cell_type": "markdown",
      "source": [
        "3. Write a program to print the even numbers from 500 to 120."
      ],
      "metadata": {
        "id": "EeRrf3X76OIu"
      }
    },
    {
      "cell_type": "code",
      "source": [
        "6for num in range(500, 119, -1):\n",
        "    if num % 2 == 0:\n",
        "        print(num)\n"
      ],
      "metadata": {
        "colab": {
          "base_uri": "https://localhost:8080/"
        },
        "id": "sLGW1qvl6Pik",
        "outputId": "6f6ab4f2-6b61-4d95-a33c-cc203afa2dde"
      },
      "execution_count": 6,
      "outputs": [
        {
          "output_type": "stream",
          "name": "stdout",
          "text": [
            "500\n",
            "498\n",
            "496\n",
            "494\n",
            "492\n",
            "490\n",
            "488\n",
            "486\n",
            "484\n",
            "482\n",
            "480\n",
            "478\n",
            "476\n",
            "474\n",
            "472\n",
            "470\n",
            "468\n",
            "466\n",
            "464\n",
            "462\n",
            "460\n",
            "458\n",
            "456\n",
            "454\n",
            "452\n",
            "450\n",
            "448\n",
            "446\n",
            "444\n",
            "442\n",
            "440\n",
            "438\n",
            "436\n",
            "434\n",
            "432\n",
            "430\n",
            "428\n",
            "426\n",
            "424\n",
            "422\n",
            "420\n",
            "418\n",
            "416\n",
            "414\n",
            "412\n",
            "410\n",
            "408\n",
            "406\n",
            "404\n",
            "402\n",
            "400\n",
            "398\n",
            "396\n",
            "394\n",
            "392\n",
            "390\n",
            "388\n",
            "386\n",
            "384\n",
            "382\n",
            "380\n",
            "378\n",
            "376\n",
            "374\n",
            "372\n",
            "370\n",
            "368\n",
            "366\n",
            "364\n",
            "362\n",
            "360\n",
            "358\n",
            "356\n",
            "354\n",
            "352\n",
            "350\n",
            "348\n",
            "346\n",
            "344\n",
            "342\n",
            "340\n",
            "338\n",
            "336\n",
            "334\n",
            "332\n",
            "330\n",
            "328\n",
            "326\n",
            "324\n",
            "322\n",
            "320\n",
            "318\n",
            "316\n",
            "314\n",
            "312\n",
            "310\n",
            "308\n",
            "306\n",
            "304\n",
            "302\n",
            "300\n",
            "298\n",
            "296\n",
            "294\n",
            "292\n",
            "290\n",
            "288\n",
            "286\n",
            "284\n",
            "282\n",
            "280\n",
            "278\n",
            "276\n",
            "274\n",
            "272\n",
            "270\n",
            "268\n",
            "266\n",
            "264\n",
            "262\n",
            "260\n",
            "258\n",
            "256\n",
            "254\n",
            "252\n",
            "250\n",
            "248\n",
            "246\n",
            "244\n",
            "242\n",
            "240\n",
            "238\n",
            "236\n",
            "234\n",
            "232\n",
            "230\n",
            "228\n",
            "226\n",
            "224\n",
            "222\n",
            "220\n",
            "218\n",
            "216\n",
            "214\n",
            "212\n",
            "210\n",
            "208\n",
            "206\n",
            "204\n",
            "202\n",
            "200\n",
            "198\n",
            "196\n",
            "194\n",
            "192\n",
            "190\n",
            "188\n",
            "186\n",
            "184\n",
            "182\n",
            "180\n",
            "178\n",
            "176\n",
            "174\n",
            "172\n",
            "170\n",
            "168\n",
            "166\n",
            "164\n",
            "162\n",
            "160\n",
            "158\n",
            "156\n",
            "154\n",
            "152\n",
            "150\n",
            "148\n",
            "146\n",
            "144\n",
            "142\n",
            "140\n",
            "138\n",
            "136\n",
            "134\n",
            "132\n",
            "130\n",
            "128\n",
            "126\n",
            "124\n",
            "122\n",
            "120\n"
          ]
        }
      ]
    },
    {
      "cell_type": "markdown",
      "source": [
        "4. Search for a number x (entered by user) in following tuple using loop."
      ],
      "metadata": {
        "id": "kwB6iDd36gbV"
      }
    },
    {
      "cell_type": "code",
      "source": [
        "numbers = (2, 4, 1, 5, 6, 11, 9, 10, 3, 6, 100, 44, 40, 20)\n",
        "\n",
        "x = int(input(\"Enter a number to search: \"))\n",
        "\n",
        "found = False\n",
        "\n",
        "for num in numbers:\n",
        "    if num == x:\n",
        "        found = True\n",
        "        break\n",
        "\n",
        "if found:\n",
        "    print(f\"{x} is present in the tuple.\")\n",
        "else:\n",
        "    print(f\"{x} is not present in the tuple.\")\n"
      ],
      "metadata": {
        "colab": {
          "base_uri": "https://localhost:8080/"
        },
        "id": "BjVsV1N66jcX",
        "outputId": "81802790-94fb-4c7b-f414-471cc375ee8d"
      },
      "execution_count": 8,
      "outputs": [
        {
          "output_type": "stream",
          "name": "stdout",
          "text": [
            "Enter a number to search: 56\n",
            "56 is not present in the tuple.\n"
          ]
        }
      ]
    },
    {
      "cell_type": "markdown",
      "source": [
        "5. Print the elements of the following list using a loop.\n",
        "[2, 4, 1, 5, 6, 11, 9, 10, 3, 6, 100, 44, 40, 20]"
      ],
      "metadata": {
        "id": "GNg0mRk362d9"
      }
    },
    {
      "cell_type": "code",
      "source": [
        "\n",
        "numbers = [2, 4, 1, 5, 6, 11, 9, 10, 3, 6, 100, 44, 40, 20]\n",
        "\n",
        "for num in numbers:\n",
        "    print(num)\n"
      ],
      "metadata": {
        "colab": {
          "base_uri": "https://localhost:8080/"
        },
        "id": "JZPr0MOb68T9",
        "outputId": "6599324a-ee79-4009-8306-e2ac30e44036"
      },
      "execution_count": 9,
      "outputs": [
        {
          "output_type": "stream",
          "name": "stdout",
          "text": [
            "2\n",
            "4\n",
            "1\n",
            "5\n",
            "6\n",
            "11\n",
            "9\n",
            "10\n",
            "3\n",
            "6\n",
            "100\n",
            "44\n",
            "40\n",
            "20\n"
          ]
        }
      ]
    },
    {
      "cell_type": "markdown",
      "source": [
        "6. Write a program that takes a number from the user and prints whether the number is\n",
        "divisible by both 3 and 5 or not.45"
      ],
      "metadata": {
        "id": "050Bh4br7AE0"
      }
    },
    {
      "cell_type": "code",
      "source": [
        "\n",
        "number = int(input(\"Enter a number: \"))\n",
        "\n",
        "if number % 3 == 0 and number % 5 == 0:\n",
        "    print(f\"{number} is divisible by both 3 and 5.\")\n",
        "else:\n",
        "    print(f\"{number} is not divisible by both 3 and 5.\")\n"
      ],
      "metadata": {
        "colab": {
          "base_uri": "https://localhost:8080/"
        },
        "id": "LiBVxv_u7FAM",
        "outputId": "0b42e94e-b026-4924-89cb-a9cca9d76733"
      },
      "execution_count": 10,
      "outputs": [
        {
          "output_type": "stream",
          "name": "stdout",
          "text": [
            "Enter a number: 45\n",
            "45 is divisible by both 3 and 5.\n"
          ]
        }
      ]
    },
    {
      "cell_type": "markdown",
      "source": [
        "7. Write a program using a for loop that sums only odd numbers between 1 and 20 —\n",
        "but you cannot use an if statement inside the loop."
      ],
      "metadata": {
        "id": "IhT9g7J97LfS"
      }
    },
    {
      "cell_type": "code",
      "source": [
        "sum_odd = 0\n",
        "\n",
        "for num in range(1, 21, 2):\n",
        "    sum_odd += num\n",
        "\n",
        "print(\"The sum of odd numbers between 1 and 20 is:\", sum_odd)\n"
      ],
      "metadata": {
        "colab": {
          "base_uri": "https://localhost:8080/"
        },
        "id": "OPWO4CGf7L-9",
        "outputId": "900dac84-aa63-49ab-9750-d02e5ab55461"
      },
      "execution_count": 11,
      "outputs": [
        {
          "output_type": "stream",
          "name": "stdout",
          "text": [
            "The sum of odd numbers between 1 and 20 is: 100\n"
          ]
        }
      ]
    },
    {
      "cell_type": "markdown",
      "source": [
        "8. Continuously take integer input from the user and find their square. Stop when the user\n",
        "enters a negative number."
      ],
      "metadata": {
        "id": "p4O-RRYu7T7k"
      }
    },
    {
      "cell_type": "code",
      "source": [
        "while True:\n",
        "    number = int(input(\"Enter an integer (negative number to stop): \"))\n",
        "\n",
        "    if number < 0:\n",
        "        print(\"Negative number entered. Program stopped.\")\n",
        "        break\n",
        "\n",
        "    print(f\"The square of {number} is {number**2}\")\n"
      ],
      "metadata": {
        "colab": {
          "base_uri": "https://localhost:8080/"
        },
        "id": "v501AGtr7V2F",
        "outputId": "066add3f-0b0c-42cd-8806-5f3ef8e869c4"
      },
      "execution_count": 12,
      "outputs": [
        {
          "output_type": "stream",
          "name": "stdout",
          "text": [
            "Enter an integer (negative number to stop): 34\n",
            "The square of 34 is 1156\n",
            "Enter an integer (negative number to stop): -6\n",
            "Negative number entered. Program stopped.\n"
          ]
        }
      ]
    },
    {
      "cell_type": "markdown",
      "source": [
        "9. Count how many digits are in a given number using a while loop (no string conversion)."
      ],
      "metadata": {
        "id": "xlFAWPK88F5D"
      }
    },
    {
      "cell_type": "code",
      "source": [
        "number = int(input(\"Enter a number: \"))\n",
        "\n",
        "count = 0\n",
        "temp = abs(number)\n",
        "\n",
        "if temp == 0:\n",
        "    count = 1\n",
        "else:\n",
        "    while temp > 0:\n",
        "        temp = temp // 10\n",
        "\n",
        "print(f\"The number of digits in {number} is {count}.\")\n"
      ],
      "metadata": {
        "colab": {
          "base_uri": "https://localhost:8080/"
        },
        "id": "35ltwDU37fiM",
        "outputId": "c65b8690-70d5-4aab-a7ec-7155da10b971"
      },
      "execution_count": 13,
      "outputs": [
        {
          "output_type": "stream",
          "name": "stdout",
          "text": [
            "Enter a number: 45\n",
            "The number of digits in 45 is 0.\n"
          ]
        }
      ]
    },
    {
      "cell_type": "markdown",
      "source": [
        "10. Reverse an integer using a while loop. (Example: Input = 123 → Output = 321)"
      ],
      "metadata": {
        "id": "9P9d7kBx7md1"
      }
    },
    {
      "cell_type": "code",
      "source": [
        "\n",
        "number = int(input(\"Enter an integer: \"))\n",
        "temp = abs(number)\n",
        "reversed_number = 0\n",
        "\n",
        "while temp > 0:\n",
        "    digit = temp % 10\n",
        "    reversed_number = reversed_number * 10 + digit\n",
        "    temp = temp // 10\n",
        "if number < 0:\n",
        "    reversed_number = -reversed_number\n",
        "\n",
        "print(f\"The reversed number is: {reversed_number}\")\n"
      ],
      "metadata": {
        "colab": {
          "base_uri": "https://localhost:8080/"
        },
        "id": "xpnE9CGj7og0",
        "outputId": "8f3f36aa-92fc-4e62-e5ff-9af39052c0a8"
      },
      "execution_count": 14,
      "outputs": [
        {
          "output_type": "stream",
          "name": "stdout",
          "text": [
            "Enter an integer: 5\n",
            "The reversed number is: 5\n"
          ]
        }
      ]
    },
    {
      "cell_type": "markdown",
      "source": [
        "Write code to print following pattern:\n",
        "*\n",
        "**\n",
        "***"
      ],
      "metadata": {
        "id": "H-JO95c87yAM"
      }
    },
    {
      "cell_type": "code",
      "source": [
        "for i in range(1, 4):\n",
        "    print('*' * i)\n"
      ],
      "metadata": {
        "colab": {
          "base_uri": "https://localhost:8080/"
        },
        "id": "OcguINA872Kj",
        "outputId": "1538e824-05fc-4f13-9b8f-6db0a7766491"
      },
      "execution_count": 15,
      "outputs": [
        {
          "output_type": "stream",
          "name": "stdout",
          "text": [
            "*\n",
            "**\n",
            "***\n"
          ]
        }
      ]
    },
    {
      "cell_type": "markdown",
      "source": [
        "12. Write a code to print following number using break and continue statement:\n",
        "1, 2, 3, 5, 6, 7, 9"
      ],
      "metadata": {
        "id": "3ByUcaT377Aq"
      }
    },
    {
      "cell_type": "code",
      "source": [
        "\n",
        "for num in range(1, 10):\n",
        "    if num == 4 or num == 8:\n",
        "        continue\n",
        "    print(num)\n"
      ],
      "metadata": {
        "colab": {
          "base_uri": "https://localhost:8080/"
        },
        "id": "chgotjaK78L0",
        "outputId": "24ac28aa-e6e0-4874-eb7f-3b667efde008"
      },
      "execution_count": 16,
      "outputs": [
        {
          "output_type": "stream",
          "name": "stdout",
          "text": [
            "1\n",
            "2\n",
            "3\n",
            "5\n",
            "6\n",
            "7\n",
            "9\n"
          ]
        }
      ]
    }
  ]
}