{
  "nbformat": 4,
  "nbformat_minor": 0,
  "metadata": {
    "colab": {
      "provenance": []
    },
    "kernelspec": {
      "name": "python3",
      "display_name": "Python 3"
    },
    "language_info": {
      "name": "python"
    }
  },
  "cells": [
    {
      "cell_type": "code",
      "execution_count": 1,
      "metadata": {
        "colab": {
          "base_uri": "https://localhost:8080/"
        },
        "id": "Ba4uBkFbjq_J",
        "outputId": "56bb15aa-4898-4993-fc95-3a95b7b08f8d"
      },
      "outputs": [
        {
          "output_type": "stream",
          "name": "stdout",
          "text": [
            "M.Talha Ramzan\n",
            "2330-0141\n"
          ]
        }
      ],
      "source": [
        "print(\"M.Talha Ramzan\")\n",
        "print(\"2330-0141\")"
      ]
    },
    {
      "cell_type": "markdown",
      "source": [
        "Task 1 – Invoice **Formatter**"
      ],
      "metadata": {
        "id": "GuRqke4flVfd"
      }
    },
    {
      "cell_type": "code",
      "source": [
        "description = \"Invoice #12345 for Payment Due on 2023-10-15\"\n",
        "print(\"Length:\", len(description))\n",
        "print(\"Updated:\", description.replace(\"Invoice\", \"Bill\"))\n",
        "print(\"Invoice Number:\", description[8:13])\n",
        "print(\"Short:\", description[:25])"
      ],
      "metadata": {
        "colab": {
          "base_uri": "https://localhost:8080/"
        },
        "id": "r6pdBBIEk2uU",
        "outputId": "907d6507-d841-4226-e54e-a8734c9854bb"
      },
      "execution_count": 2,
      "outputs": [
        {
          "output_type": "stream",
          "name": "stdout",
          "text": [
            "Length: 44\n",
            "Updated: Bill #12345 for Payment Due on 2023-10-15\n",
            "Invoice Number: #1234\n",
            "Short: Invoice #12345 for Paymen\n"
          ]
        }
      ]
    },
    {
      "cell_type": "markdown",
      "source": [
        "**Task 2 – Recipe Title Formatter**"
      ],
      "metadata": {
        "id": "sxj-BMnwlhYl"
      }
    },
    {
      "cell_type": "code",
      "source": [
        "title = \"Delicious Chocolate Chip Cookies Recipe\"\n",
        "print(\"Length:\", len(title))\n",
        "print(\"Updated:\", title.replace(\"Delicious\", \"Tasty\"))\n",
        "print(\"Word:\", title.split()[3])\n",
        "print(\"Short:\", title[:30])\n",
        "print(\"Dish Name:\", \" \".join(title.split()[3:]))\n"
      ],
      "metadata": {
        "colab": {
          "base_uri": "https://localhost:8080/"
        },
        "id": "aR2hKYlZllGt",
        "outputId": "e5ea933e-1f68-4647-a7d1-9fb6d69d4f08"
      },
      "execution_count": 4,
      "outputs": [
        {
          "output_type": "stream",
          "name": "stdout",
          "text": [
            "Length: 39\n",
            "Updated: Tasty Chocolate Chip Cookies Recipe\n",
            "Word: Cookies\n",
            "Short: Delicious Chocolate Chip Cooki\n",
            "Dish Name: Cookies Recipe\n"
          ]
        }
      ]
    },
    {
      "cell_type": "markdown",
      "source": [
        "**Task 3 – Playlist Organizer**"
      ],
      "metadata": {
        "id": "HW3rl9FCl8A8"
      }
    },
    {
      "cell_type": "code",
      "source": [
        "\n",
        "playlist = ['Song 1', 'Song 2', 'Song 3', 'Song 4']\n",
        "favorites = []\n",
        "favorites.append('Favorite Song')\n",
        "favorites.insert(1, 'Top Hit')\n",
        "last_song = playlist[-1]\n",
        "summary = playlist[:3]\n",
        "print(\"Original Playlist:\", playlist)\n",
        "print(\"Favorites:\", favorites)\n",
        "print(\"Last Song:\", last_song)\n",
        "print(\"Summary Playlist:\", summary)\n"
      ],
      "metadata": {
        "colab": {
          "base_uri": "https://localhost:8080/"
        },
        "id": "k5_SU-inl_3l",
        "outputId": "40d63786-2338-4414-c06a-e9b035f1e156"
      },
      "execution_count": 5,
      "outputs": [
        {
          "output_type": "stream",
          "name": "stdout",
          "text": [
            "Original Playlist: ['Song 1', 'Song 2', 'Song 3', 'Song 4']\n",
            "Favorites: ['Favorite Song', 'Top Hit']\n",
            "Last Song: Song 4\n",
            "Summary Playlist: ['Song 1', 'Song 2', 'Song 3']\n"
          ]
        }
      ]
    },
    {
      "cell_type": "markdown",
      "source": [
        "**Task 4 – Event Registration Manager**"
      ],
      "metadata": {
        "id": "hFPIt25wmWiF"
      }
    },
    {
      "cell_type": "code",
      "source": [
        "\n",
        "# Part 1: Participant Information\n",
        "first_name = \"Talha\"\n",
        "last_name = \"Khan\"\n",
        "father_name = \"Ramzan\"\n",
        "age = \"22\"\n",
        "id_number = \"Talha123\"\n",
        "\n",
        "full_name = first_name + \" \" + last_name\n",
        "\n",
        "print(\"Full Name:\", full_name)\n",
        "print(\"Length of Full Name:\", len(full_name))\n",
        "\n",
        "print(\"Age (Private):\", \"XX\")\n",
        "initials = first_name[0] + last_name[0]\n",
        "print(\"Initials:\", initials)\n",
        "\n",
        "print(\"Participant ID:\", id_number)\n",
        "\n",
        "\n",
        "# Part 2: Event Preferences\n",
        "\n",
        "\n",
        "events = []\n",
        "events.append(\"Coding Contest\")\n",
        "events.append(\"Sports Day\")\n",
        "events.append(\"Art Exhibition\")\n",
        "events.insert(1, \"Music Show\")\n",
        "last_event = events[-1]\n",
        "short_events = events[:2]\n",
        "print(\"Event Preferences:\", events)\n",
        "print(\"Last Event:\", last_event)\n",
        "print(\"Shortened Event Preferences:\", short_events)\n"
      ],
      "metadata": {
        "colab": {
          "base_uri": "https://localhost:8080/"
        },
        "id": "e06_G10TmZQ0",
        "outputId": "e7373ceb-a26c-41eb-84fe-664027c1fefa"
      },
      "execution_count": 6,
      "outputs": [
        {
          "output_type": "stream",
          "name": "stdout",
          "text": [
            "Full Name: Talha Khan\n",
            "Length of Full Name: 10\n",
            "Age (Private): XX\n",
            "Initials: TK\n",
            "Participant ID: Talha123\n",
            "Event Preferences: ['Coding Contest', 'Music Show', 'Sports Day', 'Art Exhibition']\n",
            "Last Event: Art Exhibition\n",
            "Shortened Event Preferences: ['Coding Contest', 'Music Show']\n"
          ]
        }
      ]
    }
  ]
}