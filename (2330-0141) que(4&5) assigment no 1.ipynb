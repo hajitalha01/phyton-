{
  "nbformat": 4,
  "nbformat_minor": 0,
  "metadata": {
    "colab": {
      "provenance": []
    },
    "kernelspec": {
      "name": "python3",
      "display_name": "Python 3"
    },
    "language_info": {
      "name": "python"
    }
  },
  "cells": [
    {
      "cell_type": "markdown",
      "source": [
        "M.Talha Ramzan\n",
        "---\n",
        "2330-0141\n",
        "---\n",
        "BS(AI)\n",
        "---\n",
        "Assigment no 01\n",
        "----"
      ],
      "metadata": {
        "id": "b2W02aYveKw5"
      }
    },
    {
      "cell_type": "markdown",
      "source": [
        "Question 4: [Marks 10]\n",
        "Write a Python program that:\n",
        "1. Prints your name, roll number, degree name, and the phrase \"Smile its Sunnah\" at the start.\n",
        "Condition: You cannot use any string literal in print() that contains white spaces (so no \"Smile its\n",
        "Sunnah\" directly).\n",
        "2. Prints the following smiley pattern using string formatting/alignment techniques (str.center(),\n",
        "format(), or f-strings). Condition: You are not allowed to simply hardcode all spaces.\n",
        "\n",
        "For example:\n",
        "Hy. I am Mr./Miss (Name)\n",
        "My roll number is (Your roll\n",
        "number like: 221-1234)\n",
        "My Degree is (Your Degree\n",
        "Like: BS(AI), BS(CS)..)\n",
        "Smile its Sunnah:"
      ],
      "metadata": {
        "id": "tk3eOAQlaqq7"
      }
    },
    {
      "cell_type": "code",
      "source": [
        "space = \" \"\n",
        "name = \"Talha\"\n",
        "roll_no = \"2330-0141\"\n",
        "degree = \"BS(AI)\"\n",
        "\n",
        "print(\"Hy.\" + space + \"I\" + space + \"am\" + space + \"M.\" + space + name)\n",
        "print(\"My\" + space + \"roll\" + space + \"number\" + space + \"is\" + space + roll_no)\n",
        "print(\"My\" + space + \"Degree\" + space + \"is\" + space + degree)\n",
        "print(\"Smile\" + space + \"its\" + space + \"Sunnah:\")\n"
      ],
      "metadata": {
        "colab": {
          "base_uri": "https://localhost:8080/"
        },
        "id": "hGGCXyMSbiMC",
        "outputId": "f59479ad-ae1c-4581-8382-bdf77d5a9f50"
      },
      "execution_count": 9,
      "outputs": [
        {
          "output_type": "stream",
          "name": "stdout",
          "text": [
            "Hy. I am M. Talha\n",
            "My roll number is 2330-0141\n",
            "My Degree is BS(AI)\n",
            "Smile its Sunnah:\n"
          ]
        }
      ]
    },
    {
      "cell_type": "code",
      "source": [
        "width = 20\n",
        "print(\"-\" .center(width, \"-\"))\n",
        "print(\"|\" .center(width, \" \"))\n",
        "print(\"|  o   o  |\".center(width))\n",
        "print(\"|    ^    |\".center(width))\n",
        "print(\"|  \\\\___/  |\".center(width))\n",
        "print(\"|\" .center(width, \" \"))\n",
        "print(\"-\" .center(width, \"-\"))\n"
      ],
      "metadata": {
        "colab": {
          "base_uri": "https://localhost:8080/"
        },
        "id": "nnbo_FV7blms",
        "outputId": "eafea184-0abd-4f9d-81c8-8c3750aa9506"
      },
      "execution_count": 10,
      "outputs": [
        {
          "output_type": "stream",
          "name": "stdout",
          "text": [
            "--------------------\n",
            "         |          \n",
            "    |  o   o  |     \n",
            "    |    ^    |     \n",
            "    |  \\___/  |     \n",
            "         |          \n",
            "--------------------\n"
          ]
        }
      ]
    },
    {
      "cell_type": "markdown",
      "source": [
        "Question 5: [Marks 25]\n",
        "You are asked to build a mini student management system using Python data structures. Store the\n",
        "following information about students using a list of dictionaries. Each dictionary should contain:\n",
        " \"roll_no\" (int)\n",
        " \"name\" (string)\n",
        " \"courses\" (a tuple of enrolled course names, e.g., (\"AI\", \"DS\", \"CV\"))\n",
        " \"marks\" (a dictionary where keys are course names and values are integers representing marks).\n",
        "Example structure (you must extend it for at least 5 students):\n",
        "students = [\n",
        "{\n",
        "\"roll_no\": 101,\n",
        "\"name\": \"Ali\",\n",
        "\"courses\": (\"AI\", \"ML\", \"CV\"),\n",
        "\"marks\": {\"AI\": 85, \"ML\": 90, \"CV\": 78}\n",
        "},\n",
        "...\n",
        "]\n",
        "1. Write Python code to perform the following tasks:\n",
        "a) Print the name and roll number of the student with the highest total marks across all courses.\n",
        "b) For each course (AI, ML, CV, etc.), compute the highest scorer and display their name, roll\n",
        "number, and marks.\n",
        "c) Update marks of one student by adding 5 bonus points in all courses where they scored less\n",
        "than 80.\n",
        "d) Display a list of all unique courses offered across all students (must be built from the tuples).\n",
        "e) Find the student(s) who are enrolled in exactly the same tuple of courses (check for equality of\n",
        "tuples).\n",
        "f) Remove a student by roll number, and ensure that your updated list reflects this change.\n",
        "You must write the program without using external libraries (only built-in Python)."
      ],
      "metadata": {
        "id": "64WT2RqAcPoE"
      }
    },
    {
      "cell_type": "code",
      "source": [
        "students = [\n",
        "    {\n",
        "        \"roll_no\": 101,\n",
        "        \"name\": \"Ali\",\n",
        "        \"courses\": (\"AI\", \"ML\", \"CV\"),\n",
        "        \"marks\": {\"AI\": 85, \"ML\": 90, \"CV\": 78}\n",
        "    },\n",
        "    {\n",
        "        \"roll_no\": 102,\n",
        "        \"name\": \"Ayesha\",\n",
        "        \"courses\": (\"DS\", \"AI\", \"CV\"),\n",
        "        \"marks\": {\"DS\": 88, \"AI\": 92, \"CV\": 80}\n",
        "    },\n",
        "    {\n",
        "        \"roll_no\": 103,\n",
        "        \"name\": \"Talha\",\n",
        "        \"courses\": (\"AI\", \"ML\", \"NLP\"),\n",
        "        \"marks\": {\"AI\": 75, \"ML\": 60, \"NLP\": 70}\n",
        "    },\n",
        "    {\n",
        "        \"roll_no\": 104,\n",
        "        \"name\": \"Hassan\",\n",
        "        \"courses\": (\"DS\", \"CV\", \"NLP\"),\n",
        "        \"marks\": {\"DS\": 95, \"CV\": 82, \"NLP\": 91}\n",
        "    },\n",
        "    {\n",
        "        \"roll_no\": 105,\n",
        "        \"name\": \"Sara\",\n",
        "        \"courses\": (\"AI\", \"ML\", \"CV\"),\n",
        "        \"marks\": {\"AI\": 90, \"ML\": 85, \"CV\": 95}\n",
        "    }\n",
        "]\n",
        "\n",
        "print(\"Students data created successfully!\")\n"
      ],
      "metadata": {
        "colab": {
          "base_uri": "https://localhost:8080/"
        },
        "id": "zyBvKMG1cUdr",
        "outputId": "d8c18017-6007-420e-e537-b2ac8eac7d6a"
      },
      "execution_count": 11,
      "outputs": [
        {
          "output_type": "stream",
          "name": "stdout",
          "text": [
            "Students data created successfully!\n"
          ]
        }
      ]
    },
    {
      "cell_type": "code",
      "source": [
        "highest_total = 0\n",
        "top_student = None\n",
        "\n",
        "for student in students:\n",
        "    total = sum(student[\"marks\"].values())\n",
        "    if total > highest_total:\n",
        "        highest_total = total\n",
        "        top_student = student\n",
        "\n",
        "print(\"a) Student with highest total marks:\")\n",
        "print(\"Name:\", top_student[\"name\"])\n",
        "print(\"Roll No:\", top_student[\"roll_no\"])\n",
        "print(\"Total Marks:\", highest_total)\n"
      ],
      "metadata": {
        "colab": {
          "base_uri": "https://localhost:8080/"
        },
        "id": "A61FxkuJdSs-",
        "outputId": "01a4d003-fd07-412b-d9af-2f9ec79a0ee0"
      },
      "execution_count": 12,
      "outputs": [
        {
          "output_type": "stream",
          "name": "stdout",
          "text": [
            "a) Student with highest total marks:\n",
            "Name: Sara\n",
            "Roll No: 105\n",
            "Total Marks: 270\n"
          ]
        }
      ]
    },
    {
      "cell_type": "code",
      "source": [
        "all_courses = set()\n",
        "for student in students:\n",
        "    all_courses.update(student[\"courses\"])\n",
        "\n",
        "print(\"b) Highest scorer for each course:\")\n",
        "for course in all_courses:\n",
        "    max_marks = -1\n",
        "    top_scorer = None\n",
        "    for student in students:\n",
        "        if course in student[\"marks\"]:\n",
        "            if student[\"marks\"][course] > max_marks:\n",
        "                max_marks = student[\"marks\"][course]\n",
        "                top_scorer = student\n",
        "    if top_scorer:\n",
        "        print(f\"Course: {course}, Name: {top_scorer['name']}, Roll No: {top_scorer['roll_no']}, Marks: {max_marks}\")\n"
      ],
      "metadata": {
        "colab": {
          "base_uri": "https://localhost:8080/"
        },
        "id": "7oIY-8jSdWNa",
        "outputId": "30d9ab09-06ba-4d7e-f53b-08fbe575ac90"
      },
      "execution_count": 13,
      "outputs": [
        {
          "output_type": "stream",
          "name": "stdout",
          "text": [
            "b) Highest scorer for each course:\n",
            "Course: DS, Name: Hassan, Roll No: 104, Marks: 95\n",
            "Course: CV, Name: Sara, Roll No: 105, Marks: 95\n",
            "Course: NLP, Name: Hassan, Roll No: 104, Marks: 91\n",
            "Course: ML, Name: Ali, Roll No: 101, Marks: 90\n",
            "Course: AI, Name: Ayesha, Roll No: 102, Marks: 92\n"
          ]
        }
      ]
    },
    {
      "cell_type": "code",
      "source": [
        "print(\"c) Updating marks (adding 5 bonus points for marks < 80):\")\n",
        "for student in students:\n",
        "    for course, mark in student[\"marks\"].items():\n",
        "        if mark < 80:\n",
        "            student[\"marks\"][course] += 5\n",
        "    print(f\"{student['name']} updated marks: {student['marks']}\")\n"
      ],
      "metadata": {
        "colab": {
          "base_uri": "https://localhost:8080/"
        },
        "id": "596qLlK8dZvv",
        "outputId": "475d7673-6389-4f5d-ebf3-4b7f59468feb"
      },
      "execution_count": 18,
      "outputs": [
        {
          "output_type": "stream",
          "name": "stdout",
          "text": [
            "c) Updating marks (adding 5 bonus points for marks < 80):\n",
            "Ali updated marks: {'AI': 85, 'ML': 90, 'CV': 83}\n",
            "Ayesha updated marks: {'DS': 88, 'AI': 92, 'CV': 80}\n",
            "Talha updated marks: {'AI': 80, 'ML': 70, 'NLP': 80}\n",
            "Hassan updated marks: {'DS': 95, 'CV': 82, 'NLP': 91}\n",
            "Sara updated marks: {'AI': 90, 'ML': 85, 'CV': 95}\n"
          ]
        }
      ]
    },
    {
      "cell_type": "code",
      "source": [
        "unique_courses = set()\n",
        "for student in students:\n",
        "    unique_courses.update(student[\"courses\"])\n",
        "print(\"d) All unique courses offered:\", unique_courses)\n"
      ],
      "metadata": {
        "colab": {
          "base_uri": "https://localhost:8080/"
        },
        "id": "V0xlHYQtdd6o",
        "outputId": "a132c0de-6b4a-4adf-8b50-521b6e34f0bc"
      },
      "execution_count": 19,
      "outputs": [
        {
          "output_type": "stream",
          "name": "stdout",
          "text": [
            "d) All unique courses offered: {'DS', 'CV', 'NLP', 'ML', 'AI'}\n"
          ]
        }
      ]
    },
    {
      "cell_type": "code",
      "source": [
        "print(\"e) Students with exactly same courses tuple:\")\n",
        "checked = set()\n",
        "for i in range(len(students)):\n",
        "    for j in range(i + 1, len(students)):\n",
        "        if students[i][\"courses\"] == students[j][\"courses\"]:\n",
        "            pair = (students[i][\"name\"], students[j][\"name\"])\n",
        "            if pair not in checked:\n",
        "                print(f\"{students[i]['name']} and {students[j]['name']} have same courses: {students[i]['courses']}\")\n",
        "                checked.add(pair)\n"
      ],
      "metadata": {
        "colab": {
          "base_uri": "https://localhost:8080/"
        },
        "id": "_ZfRgONmdgfj",
        "outputId": "e4a8cb6a-97a4-4877-d771-e4002610efba"
      },
      "execution_count": 20,
      "outputs": [
        {
          "output_type": "stream",
          "name": "stdout",
          "text": [
            "e) Students with exactly same courses tuple:\n",
            "Ali and Sara have same courses: ('AI', 'ML', 'CV')\n"
          ]
        }
      ]
    },
    {
      "cell_type": "code",
      "source": [
        "roll_to_remove = int(input(\"f) Enter roll number of student to remove: \"))\n",
        "found = False\n",
        "for i in range(len(students)):\n",
        "    if students[i][\"roll_no\"] == roll_to_remove:\n",
        "        print(\"Removing student:\", students[i][\"name\"])\n",
        "        del students[i]\n",
        "        found = True\n",
        "        break\n",
        "if not found:\n",
        "    print(\"Student with this roll number not found!\")\n",
        "\n",
        "print(\"Updated list of students:\")\n",
        "for student in students:\n",
        "    print(f\"Roll No: {student['roll_no']}, Name: {student['name']}\")\n"
      ],
      "metadata": {
        "colab": {
          "base_uri": "https://localhost:8080/"
        },
        "id": "CIaw2qGVdihr",
        "outputId": "5dc31339-0a7f-45e1-f9a7-6725933d6a65"
      },
      "execution_count": 21,
      "outputs": [
        {
          "output_type": "stream",
          "name": "stdout",
          "text": [
            "f) Enter roll number of student to remove: 34\n",
            "Student with this roll number not found!\n",
            "Updated list of students:\n",
            "Roll No: 101, Name: Ali\n",
            "Roll No: 102, Name: Ayesha\n",
            "Roll No: 103, Name: Talha\n",
            "Roll No: 104, Name: Hassan\n",
            "Roll No: 105, Name: Sara\n"
          ]
        }
      ]
    }
  ]
}